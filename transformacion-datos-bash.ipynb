{
 "cells": [
  {
   "cell_type": "markdown",
   "metadata": {},
   "source": [
    "# Transformación de Datos usando Bash\n",
    "Notas de clase"
   ]
  },
  {
   "cell_type": "markdown",
   "metadata": {},
   "source": [
    "**Juan David Velásquez Henao**    \n",
    "Universidad Nacional de Colombia, Sede Medellín  \n",
    "Facultad de Minas  \n",
    "Medellín, Colombia  "
   ]
  },
  {
   "cell_type": "markdown",
   "metadata": {},
   "source": [
    "[Licencia](https://github.com/jdvelasq/transformacion-datos-bash/blob/master/LICENCIA.txt)\n",
    "\n",
    "[Readme](https://github.com/jdvelasq/transformacion-datos-bash/blob/master/Readme.md)"
   ]
  },
  {
   "cell_type": "markdown",
   "metadata": {},
   "source": [
    "### Contenido"
   ]
  },
  {
   "cell_type": "markdown",
   "metadata": {},
   "source": [
    "  * [Contenido](#Contenido)\n",
    "  * [Introducción](#Introducción)\n",
    "  * [Acceso a la terminal de comandos](#Acceso-a-la-terminal-de-comandos)\n",
    "  * [Obtención de ayuda con `man`](#Obtención-de-ayuda-con-man)\n",
    "  * [Gestión del sistema de directorios y archivos](#Gestión-del-sistema-de-directorios-y-archivos)\n",
    "    * [Determinación del directorio actual con `pwd`  ](#Determinación-del-directorio-actual-con-pwd)\n",
    "    * [Listado del contenido de un directorio con `ls`](#Listado-del-contenido-de-un-directorio-con-ls)\n",
    "    * [Creación de directorios con `mkdir`  ](#Creación-de-directorios-con-mkdir)\n",
    "    * [Cambio del directorio actual con `cd` ](#Cambio-del-directorio-actual-con-cd)\n",
    "    * [Eliminación de directorios con `rmdir`](#Eliminación-de-directorios-con-rmdir)\n",
    "    * [Creación de archivos vacíos con `touch`](#Creación-de-archivos-vacíos-con-touch)\n",
    "    * [Copia de archivos con `cp`](#Copia-de-archivos-con-cp)\n",
    "    * [Renombrado y movimiento de archivos con `mv`](#Renombrado-y-movimiento-de-archivos-con-mv)\n",
    "    * [Borrado de archivos con `rm`   ](#Borrado-de-archivos-con-rm)\n",
    "  * [Impresión de texto](#Impresión-de-texto)\n",
    "    * [Impresión usando `echo` ](#Impresión-usando-echo)\n",
    "    * [Impresión de texto con formato usando `printf` ](#Impresión-de-texto-con-formato-usando-printf)\n",
    "    * [Impresión de secuencias usando `seq`](#Impresión-de-secuencias-usando-seq)\n",
    "  * [Redireccionamiento de la entrada, la salida y pipes ](#Redireccionamiento-de-la-entrada,-la-salida-y-pipes)\n",
    "  * [Visualización de archivos](#Visualización-de-archivos)\n",
    "    * [Visualización del contenido de un archivo con `cat`  ](#Visualización-del-contenido-de-un-archivo-con-cat)\n",
    "    * [Visualización del inicio de un archivo con `head`](#Visualización-del-inicio-de-un-archivo-con-head)\n",
    "    * [Visualización del final de un archivo con `tail`  ](#Visualización-del-final-de-un-archivo-con-tail)\n",
    "    * [Visualización del contenido de un archivo con `more` y `less`](#Visualización-del-contenido-de-un-archivo-con-more-y-less)\n",
    "  * [Tranformación de archivos](#Tranformación-de-archivos)\n",
    "    * [Ordenación de un archivo con `sort`  ](#Ordenación-de-un-archivo-con-sort)\n",
    "    * [Obtención de las líneas únicas de un archivo con `uniq`](#Obtención-de-las-líneas-únicas-de-un-archivo-con-uniq)\n",
    "    * [Conteo de la cantidad de líneas, palabras y caracteres de archivo usando `wc`](#Conteo-de-la-cantidad-de-líneas,-palabras-y-caracteres-de-archivo-usando-wc)\n",
    "    * [Búsqueda de patrones con `grep`](#Búsqueda-de-patrones-con-grep)\n",
    "    * [Reemplazo de caracteres con `tr`](#Reemplazo-de-caracteres-con-tr)\n",
    "    * [Edición de archivos con `sed`](#Edición-de-archivos-con-sed)\n",
    "    * [Extracción de campos con `cut`](#Extracción-de-campos-con-cut)\n",
    "    * [Borrado de columnas con `colrm`](#Borrado-de-columnas-con-colrm)\n",
    "    * [Unión de archivos con `join`](#Unión-de-archivos-con-join)\n",
    "    * [Pegado de archivos con `paste`](#Pegado-de-archivos-con-paste)\n",
    "  * [Variables y arrays](#Variables-y-arrays)\n",
    "  * [Scripts](#Scripts)\n",
    "  * [Funciones](#Funciones)\n",
    "  * [Estructuras de control](#Estructuras-de-control)\n",
    "    * [Decisión con `if-then-else-fi` y `case-esac`](#Decisión-con-if-then-else-fi-y-case-esac)\n",
    "    * [Ciclos definidos con `for`](#Ciclos-definidos-con-for)\n",
    "    * [Ciclos condicionales con `while` ](#Ciclos-condicionales-con-while)\n",
    "    * [Ciclos condicionales con `until`](#Ciclos-condicionales-con-until)\n",
    "  * [Cálculos numéricos en punto flotante](#Cálculos-numéricos-en-punto-flotante)\n",
    "  * [Implementación de herramientas escritas en otros lenguajes   ](#Implementación-de-herramientas-escritas-en-otros-lenguajes)\n",
    "    * [Herramientas en Python](#Herramientas-en-Python)\n",
    "    * [Herramientas en R](#Herramientas-en-R)"
   ]
  },
  {
   "cell_type": "markdown",
   "metadata": {},
   "source": [
    "---"
   ]
  },
  {
   "cell_type": "markdown",
   "metadata": {},
   "source": [
    "# Introducción"
   ]
  },
  {
   "cell_type": "markdown",
   "metadata": {},
   "source": [
    "[Contenido](#Contenido)"
   ]
  },
  {
   "cell_type": "markdown",
   "metadata": {},
   "source": [
    "El proceso de transformación de datos se refiere a la tarea de convertir los datos de un formato a otro [1], el cual incluye las fases de:\n",
    "\n",
    "*\tInspección – determinación de las características como el formato y otras propiedades.\n",
    "*\tLectura – carga correcta de los datos.\n",
    "*\tFiltrado – selección del subconjunto de datos de interés.\n",
    "*\tTransformación – modificación de los datos como tal.\n",
    "\n",
    "La transformación de datos es una de las fases principales en la ciencia de los datos y la analítica, y está directamente vinculada a los procesos ETL (Extract-Tranform-Load).  Por ETL se hace referencia los procesos requeridos para la extracción de datos provenientes de diferentes fuentes y con distintos formatos, la transformación para su unificación en un solo formato estándar y la carga a un sistema de información (que usualmente es una base de datos).   \n"
   ]
  },
  {
   "cell_type": "markdown",
   "metadata": {},
   "source": [
    "El proceso de transformación de datos incluye, entre otras, las siguientes actividades [2]:\n",
    "\n",
    "*\tRemoción de datos innecesarios o repetidos.\n",
    "*\tReducción del número de filas o registros por eliminación o por agregación.\n",
    "*\tReducción del número de campos o columnas.\n",
    "*\tReemplazo o construcción de claves.\n",
    "*\tCreación de nuevos campos o columnas.\n"
   ]
  },
  {
   "cell_type": "markdown",
   "metadata": {},
   "source": [
    "Estos procesos suelen ser repetitivos e involucran, usualmente, una cantidad importante de datos, de tal forma que pueden resultar muy dispendiosos, tediosos o prácticamente imposibles de realizar manualmente. Es así como una tarea tan simple como renombrar un archivo se vuelve abrumadora cuando se deben renombrar 1.000 o 10.000 archivos. En este sentido, la automatización de estas tareas trae múltiples beneficios al usuario, entre los que se encuentran [3]:\n",
    "\n",
    "*\tEl agilizar tareas simples que consumen una gran cantidad de tiempo.\n",
    "*\tLa eliminación de la posibilidad de errores debidos a la ejecución manual de un proceso (por un humano).\n",
    "*\tUna mayor cantidad de tiempo para realizar otras actividades de corte intelectual.\n"
   ]
  },
  {
   "cell_type": "markdown",
   "metadata": {},
   "source": [
    "Este documento aborda la transformación de datos almacenados en archivos de texto mediante el uso de la consola de comandos o shell, la cual es una interfaz para dar comandos al sistema operativo Unix (incluyendo Linux y OS X) [4] digitando texto. La idoneidad de la shell para la transformación de archivos de texto proviene de la filosofía de diseño del sistema operativo Unix, según la cual, el sistema operativo debe estar conformado por una gran cantidad de pequeños programas de objetivo bien definido y por el intercambio de información entre programas a través de texto plano [5]. Ya que el texto plano es el lenguaje universal entre programas escritos en diferentes lenguajes, las herramientas del sistema operativo operan limpiamente entre si. Adicionalmente, el diseño de una gran cantidad de herramientas del sistema operativo fue realizado para leer una porción de la entrada (por ejemplo, una línea de un archivo de texto) y procesarla, sin tener que cargar todo el archivo en memoria; eso hace, que se puedan procesar archivos con millones de registros sin problemas."
   ]
  },
  {
   "cell_type": "markdown",
   "metadata": {},
   "source": [
    "Bash es en si mismo tanto una shell de comandos como un lenguaje de programación para la automatización de procesos [4].  En el contexto de la ciencia de los datos resulta particularmente interesante, ya que:\n",
    "\n",
    "* Permite la gestión de archivos planos de texto (creación, transformación y borrado) en el contexto de los procesos ETL (extracción, transformación y carga de datos). \n",
    "* Permite la creación de herramientas para ETL escritas en lenguajes de programación de alto nivel (como Perl, Python, Ruby o R) que pueden integrarse directamente con otras herramientas del sistema operativo.\n",
    "* Sistemas como Hadoop corren sobre Unix, y por tanto, el usuario requiere unos conocimientos mínimos sobre Bash para interactuar con estos sistemas. \n",
    "* La línea de comandos es fácilmente programable y permite hacer tareas complejas usando comandos simples; en oposición, programas equivalentes en los lenguajes R o Python que hagan las mismas tareas podrían tener muchas más líneas de código.\n"
   ]
  },
  {
   "cell_type": "markdown",
   "metadata": {},
   "source": [
    "Para ejemplificar el tipo de tareas que se pueden realizar fácilmente en la línea de comandos, suponga que tiene un archivo separado por comas (CSV) llamado datos.csv con dos millones de filas cuya cabecera se presenta a continuación:\n",
    "\n",
    "\n",
    "    fecha,placa,ciudad,valor\n",
    "    2015-05-03,IAY184,medellin,20040\n",
    "    2016-01-03,TYE765,medellin,75645\n",
    "    2014-03-25,RET145,cali,472277\n",
    "    2014-03-23,IAY184,cali,28848\n",
    "    2013-05-23,UYA435,cali,284663\n",
    "    2010-02-26,TTE234,manizales,3456\n"
   ]
  },
  {
   "cell_type": "markdown",
   "metadata": {},
   "source": [
    "Entre las tareas comunes de extracción, transformación y carga de datos que pueden realizarse se encuentran las siguientes:\n",
    "\n",
    "*\tContar la cantidad de registros por año. \n",
    "*\tCalcular los subtotales por año y mes de la columna valor.\n",
    "*\tExtraer los registros para una determinada ciudad a otro archivo.\n",
    "*\tGenerar una lista ordenada de las ciudades que aparecen en el archivo.\n",
    "*\tDeterminar entre que fechas se encuentra la muestra.\n",
    "*\tOrdenar el archivo por fecha.\n",
    "*\t(y muchas otras preguntas posibles)\n"
   ]
  },
  {
   "cell_type": "markdown",
   "metadata": {},
   "source": [
    "Estas tareas son fácilmente realizables usando la línea de comandos de Linux. Por ejemplo, el comando \n",
    "\n",
    "```\n",
    "-bash-3.2$ grep ^2015 datos.csv\n",
    "```\n",
    "\n",
    "permite imprimir en pantalla únicamente los registros del año 2015; para grabar los resultados en el archivo 2015.csv  solo es necesario modificar ligeramente el comando anterior a:\n",
    "\n",
    "```\n",
    "-bash-3.2$ grep ^2015 datos.csv > 2015.csv\n",
    "```\n"
   ]
  },
  {
   "cell_type": "markdown",
   "metadata": {
    "slideshow": {
     "slide_type": "slide"
    }
   },
   "source": [
    "El objetivo de este documento es presentar y ejemplificar los principales comandos del sistema operativo Unix para la transformación de archivos de texto y la automatización de estas tareas mediante el uso de scripts. Este documento difiere en gran medida de muchos otros textos sobre Bash en que está orientado a la transformación de datos, mientras que la gran cantidad de literatura existente se focaliza mayormente en tareas de gestión y administración del sistema operativo; véase, por ejemplo, las referencias [6] y [7]. "
   ]
  },
  {
   "cell_type": "markdown",
   "metadata": {},
   "source": [
    "Al finalizar este documento, el lector estará en capacidad de:\n",
    "\n",
    "*\tVisualizar una porción o el total de un archivo.\n",
    "*\tRenombrar, copiar y mover archivos.\n",
    "*\tGenerar nuevos archivos a partir del contenido de otros archivos.\n",
    "*\tEscribir programas en Bash de complejidad baja y media."
   ]
  },
  {
   "cell_type": "markdown",
   "metadata": {},
   "source": [
    "---"
   ]
  },
  {
   "cell_type": "markdown",
   "metadata": {},
   "source": [
    "# Acceso a la terminal de comandos"
   ]
  },
  {
   "cell_type": "markdown",
   "metadata": {},
   "source": [
    "[Contenido](#Contenido)"
   ]
  },
  {
   "cell_type": "markdown",
   "metadata": {},
   "source": [
    "Para acceder a la terminal de comandos haga lo siguiente:\n",
    "\n",
    "* En Mac OS X, digite `Cmd + Space` para aceeder a Spotligth, digite `terminal` y finalmente `Enter`.\n",
    "* En Ubuntu, digite `Ctrl + Alt + T`.\n",
    "* La versión de 64 bits de Microsoft Windows instala una versión de Bash. Haga click [aquí](https://msdn.microsoft.com/en-us/commandline/wsl/install_guide) para obtener instrucciones de cómo habilitarlo.   "
   ]
  },
  {
   "cell_type": "markdown",
   "metadata": {},
   "source": [
    "# Obtención de ayuda con `man`"
   ]
  },
  {
   "cell_type": "markdown",
   "metadata": {},
   "source": [
    "[Contenido](#Contenido)"
   ]
  },
  {
   "cell_type": "markdown",
   "metadata": {},
   "source": [
    "El prompt de comandos proporcional un manual en línea sobre los comandos del sistema. Para obtener ayuda en línea sobre un determinado comando digite: \n",
    "\n",
    "`    man` *`comando`*\n",
    "\n",
    "donde *`comando`* es el comando de interés. Para salir de la ayuda digite `q`."
   ]
  },
  {
   "cell_type": "markdown",
   "metadata": {},
   "source": [
    "# Gestión del sistema de directorios y archivos"
   ]
  },
  {
   "cell_type": "markdown",
   "metadata": {},
   "source": [
    "[Contenido](#Contenido)"
   ]
  },
  {
   "cell_type": "markdown",
   "metadata": {},
   "source": [
    "En Unix, Linux y OS X, el sistema de archivos está organizado en una estructura de árbol cuyo directorio  inicial es **`/`**. A partir de este directorio se desprenden varios subdirectorios predefinidos que están organizados de acuerdo a sus funciones y cuyos nombres y organización dependen de cada sistema operativo particular (Haga click [aquí](https://en.wikipedia.org/wiki/Unix_filesystem) para ver una descripción general del sistema de archivos). Por ejemplo, en el caso de Mac OS X,  el directorio de trabajo del usuario `jdvelasq` aparece como\n",
    "\n",
    "\n",
    "``` \n",
    "/Users/jdvelasq\n",
    "```\n",
    "\n",
    "\n",
    "(note el `/` inicial). Si existe un archivo llamado `notas.txt` en el directorio de trabajo de dicho usuario, entonces la dirección absoluta de dicho archivo es\n",
    "\n",
    "```\n",
    "/Users/jdvelasq/notas.txt\n",
    "```\n",
    "\n",
    "Existen varias convenciones para referirse a un archivo  de forma relativa:\n",
    "\n",
    "*\t`~` indica el directorio de trabajo del usuario actual, tal que el archivo anterior podría referenciarse como `~/notas.txt`.  Aquí `~` indica `/Users/jdvelasq`.\n",
    "*\t`notas.txt` hace referencia al archivo con ese nombre ubicado en el directorio actual.\n",
    "*\t`datos/notas.txt`  corresponde al archivo `notas.txt` ubicado en la subcarpeta datos de la capeta actual.\n",
    "*\t`/datos/notas.txt` se refiere al archivo con ese nombre ubicado en la carpeta datos de la raíz del sistema (no en la carpeta actual). \n",
    "*\tEn algunos casos es necesario referenciar al archivo `notas.txt` que se encuentra en el directorio actual como `./notas.txt`.\n"
   ]
  },
  {
   "cell_type": "markdown",
   "metadata": {},
   "source": [
    "## Determinación del directorio actual con `pwd`  "
   ]
  },
  {
   "cell_type": "markdown",
   "metadata": {},
   "source": [
    "[Contenido](#Contenido)"
   ]
  },
  {
   "cell_type": "markdown",
   "metadata": {},
   "source": [
    "El comando `pwd` devuelve el nombre del directorio actual de trabajo."
   ]
  },
  {
   "cell_type": "code",
   "execution_count": 1,
   "metadata": {
    "collapsed": false
   },
   "outputs": [
    {
     "name": "stdout",
     "output_type": "stream",
     "text": [
      "/Users/jdvelasq/GitHub-drafts/fundamentos-programacion-bash\r\n"
     ]
    }
   ],
   "source": [
    "pwd"
   ]
  },
  {
   "cell_type": "markdown",
   "metadata": {},
   "source": [
    "## Listado del contenido de un directorio con `ls`"
   ]
  },
  {
   "cell_type": "markdown",
   "metadata": {},
   "source": [
    "[Contenido](#Contenido)"
   ]
  },
  {
   "cell_type": "markdown",
   "metadata": {},
   "source": [
    "El comando `ls` imprime el nombre de los archivos y directorios existentes dentro del directorio de trabajo."
   ]
  },
  {
   "cell_type": "code",
   "execution_count": 2,
   "metadata": {
    "collapsed": false
   },
   "outputs": [
    {
     "name": "stdout",
     "output_type": "stream",
     "text": [
      "LICENSE.txt\t\t\t\timports85.txt\r\n",
      "fundamentos-programacion-bash.ipynb\treadme.md\r\n"
     ]
    }
   ],
   "source": [
    "ls"
   ]
  },
  {
   "cell_type": "markdown",
   "metadata": {},
   "source": [
    "La opción `-l` del comando `ls` imprime información detallada del contenido del directorio de trabajo y sus respectivos permisos. "
   ]
  },
  {
   "cell_type": "code",
   "execution_count": 3,
   "metadata": {
    "collapsed": false
   },
   "outputs": [
    {
     "name": "stdout",
     "output_type": "stream",
     "text": [
      "total 312\r\n",
      "-rw-r--r--@ 1 jdvelasq  staff    1109 Jul  9 13:25 LICENSE.txt\r\n",
      "-rwxr-xr-x  1 jdvelasq  staff  117890 Jul 16 11:35 fundamentos-programacion-bash.ipynb\r\n",
      "-rw-r--r--@ 1 jdvelasq  staff   26217 Jul 12 18:00 imports85.txt\r\n",
      "-rw-r--r--@ 1 jdvelasq  staff    1279 Jul 14 10:04 readme.md\r\n"
     ]
    }
   ],
   "source": [
    "ls -l"
   ]
  },
  {
   "cell_type": "markdown",
   "metadata": {},
   "source": [
    "Al principio de cada línea hay una cadena de diez caracteres. El primer carácter indica si el elemento es un archivo (`-`) o un directorio (`d`). Luego siguen tres grupos de tres caracteres que indican \n",
    "\n",
    "* Permisos de usuario.\n",
    "* Permisos de grupo.\n",
    "* Otros permisos.\n",
    "\n",
    "En su orden, los tres caracteres de cada grupo representan lo siguiente: \n",
    "\n",
    "* Si el archivo tiene permiso de lectura (`r`) o no (`-`). \n",
    "* Si el archivo tiene permiso de escritura (`w`) o no (`-`).\n",
    "* Si el archivo es ejecutable (`x`) o no (`-`); consulte la ayuda de `ls` para obtener más opciones.\n",
    "\n",
    "Por ejemplo, la cadena `-rwxr-xr-x` indica que el elemento es un archivo (`-`), que el usuario (dueño) tiene permisos de lectura y escritura (`rw`), que el archivo es ejecutable (`x`) y que otros usuarios solo pueden leerlo (`r--`).  \n",
    "\n"
   ]
  },
  {
   "cell_type": "markdown",
   "metadata": {},
   "source": [
    "## Creación de directorios con `mkdir`  "
   ]
  },
  {
   "cell_type": "markdown",
   "metadata": {},
   "source": [
    "[Contenido](#Contenido)"
   ]
  },
  {
   "cell_type": "markdown",
   "metadata": {},
   "source": [
    "El comando `mkdir` *`nombredir`* crea el directorio llamado *`nombredir`* dentro del directorio actual."
   ]
  },
  {
   "cell_type": "code",
   "execution_count": 4,
   "metadata": {
    "collapsed": false,
    "scrolled": true
   },
   "outputs": [
    {
     "name": "stdout",
     "output_type": "stream",
     "text": []
    }
   ],
   "source": [
    "mkdir data"
   ]
  },
  {
   "cell_type": "markdown",
   "metadata": {},
   "source": [
    "Para visualizar el contenido del directorio `data` (que obviamente está vacío) se utiliza igualmente el comando `ls`."
   ]
  },
  {
   "cell_type": "code",
   "execution_count": 5,
   "metadata": {
    "collapsed": false,
    "scrolled": true
   },
   "outputs": [
    {
     "name": "stdout",
     "output_type": "stream",
     "text": []
    }
   ],
   "source": [
    "ls -l ./data # no imprime nada porque el directorio 'data' está vacío."
   ]
  },
  {
   "cell_type": "markdown",
   "metadata": {},
   "source": [
    "## Cambio del directorio actual con `cd` "
   ]
  },
  {
   "cell_type": "markdown",
   "metadata": {},
   "source": [
    "[Contenido](#Contenido)"
   ]
  },
  {
   "cell_type": "markdown",
   "metadata": {},
   "source": [
    "Para moverse entre la estructura de directorios se usa el comando `cd`. \n",
    "\n",
    "`cd` *`nombredir`* permite moverse al directorio *`nombredir`* mientras que `cd ..` permite subir al directorio padre. "
   ]
  },
  {
   "cell_type": "code",
   "execution_count": 6,
   "metadata": {
    "collapsed": false,
    "scrolled": true
   },
   "outputs": [
    {
     "name": "stdout",
     "output_type": "stream",
     "text": []
    }
   ],
   "source": [
    "cd data  "
   ]
  },
  {
   "cell_type": "code",
   "execution_count": 7,
   "metadata": {
    "collapsed": false
   },
   "outputs": [
    {
     "name": "stdout",
     "output_type": "stream",
     "text": [
      "/Users/jdvelasq/GitHub-drafts/fundamentos-programacion-bash/data\r\n"
     ]
    }
   ],
   "source": [
    "pwd "
   ]
  },
  {
   "cell_type": "markdown",
   "metadata": {},
   "source": [
    "Ahora, sube al directorio padre"
   ]
  },
  {
   "cell_type": "code",
   "execution_count": 8,
   "metadata": {
    "collapsed": false
   },
   "outputs": [
    {
     "name": "stdout",
     "output_type": "stream",
     "text": [
      "/Users/jdvelasq/GitHub-drafts/fundamentos-programacion-bash\r\n"
     ]
    }
   ],
   "source": [
    "cd .. \n",
    "pwd"
   ]
  },
  {
   "cell_type": "markdown",
   "metadata": {},
   "source": [
    "Al listar el contenido del directorio actual aparece el nuevo directorio `data`."
   ]
  },
  {
   "cell_type": "code",
   "execution_count": 9,
   "metadata": {
    "collapsed": false
   },
   "outputs": [
    {
     "name": "stdout",
     "output_type": "stream",
     "text": [
      "total 312\r\n",
      "-rw-r--r--@ 1 jdvelasq  staff    1109 Jul  9 13:25 LICENSE.txt\r\n",
      "drwxr-xr-x  2 jdvelasq  staff      68 Jul 16 11:37 data\r\n",
      "-rwxr-xr-x  1 jdvelasq  staff  117890 Jul 16 11:35 fundamentos-programacion-bash.ipynb\r\n",
      "-rw-r--r--@ 1 jdvelasq  staff   26217 Jul 12 18:00 imports85.txt\r\n",
      "-rw-r--r--@ 1 jdvelasq  staff    1279 Jul 14 10:04 readme.md\r\n"
     ]
    }
   ],
   "source": [
    "ls -l  "
   ]
  },
  {
   "cell_type": "markdown",
   "metadata": {},
   "source": [
    "`cd` admite direcciones absolutas; por ejemplo, `cd ~` y `cd /Users/jdvelasq`  permiten ir al directorio raíz del usuario. "
   ]
  },
  {
   "cell_type": "markdown",
   "metadata": {},
   "source": [
    "## Eliminación de directorios con `rmdir`"
   ]
  },
  {
   "cell_type": "markdown",
   "metadata": {},
   "source": [
    "[Contenido](#Contenido)"
   ]
  },
  {
   "cell_type": "markdown",
   "metadata": {
    "collapsed": true
   },
   "source": [
    "El comando `rmdir` *`nombredir`* borra el directorio *`nombredir`*. El directorio debe estar vacío para poder borrarlo."
   ]
  },
  {
   "cell_type": "code",
   "execution_count": 10,
   "metadata": {
    "collapsed": false,
    "scrolled": true
   },
   "outputs": [
    {
     "name": "stdout",
     "output_type": "stream",
     "text": []
    }
   ],
   "source": [
    "rmdir ./data"
   ]
  },
  {
   "cell_type": "markdown",
   "metadata": {},
   "source": [
    "## Creación de archivos vacíos con `touch`"
   ]
  },
  {
   "cell_type": "markdown",
   "metadata": {},
   "source": [
    "[Contenido](#Contenido)"
   ]
  },
  {
   "cell_type": "markdown",
   "metadata": {},
   "source": [
    "El comando `touch` permite modificar las fechas de creación y acceso de un archivo. Puede ser usado para la creación de archivos ya que si dicho archivo no existe, `touch` lo crea.  "
   ]
  },
  {
   "cell_type": "code",
   "execution_count": 11,
   "metadata": {
    "collapsed": false
   },
   "outputs": [
    {
     "name": "stdout",
     "output_type": "stream",
     "text": []
    }
   ],
   "source": [
    "# crea el archivo out.1\n",
    "touch out.1"
   ]
  },
  {
   "cell_type": "code",
   "execution_count": 12,
   "metadata": {
    "collapsed": false,
    "scrolled": true
   },
   "outputs": [
    {
     "name": "stdout",
     "output_type": "stream",
     "text": [
      "-rw-r--r--  1 jdvelasq  staff  0 Jul 16 11:37 out.1\r\n"
     ]
    }
   ],
   "source": [
    "ls -l out*"
   ]
  },
  {
   "cell_type": "markdown",
   "metadata": {},
   "source": [
    "## Copia de archivos con `cp`"
   ]
  },
  {
   "cell_type": "markdown",
   "metadata": {},
   "source": [
    "[Contenido](#Contenido)"
   ]
  },
  {
   "cell_type": "markdown",
   "metadata": {},
   "source": [
    "Su sintaxis es `cp` *`origen`*  *`destino`*. En el siguiente ejemplo se crea una copia de `out.1` llamada `out.2`."
   ]
  },
  {
   "cell_type": "code",
   "execution_count": 13,
   "metadata": {
    "collapsed": false
   },
   "outputs": [
    {
     "name": "stdout",
     "output_type": "stream",
     "text": [
      "-rw-r--r--  1 jdvelasq  staff  0 Jul 16 11:37 out.1\r\n",
      "-rw-r--r--  1 jdvelasq  staff  0 Jul 16 11:37 out.2\r\n"
     ]
    }
   ],
   "source": [
    "cp out.1 out.2\n",
    "ls -l out*"
   ]
  },
  {
   "cell_type": "markdown",
   "metadata": {},
   "source": [
    "## Renombrado y movimiento de archivos con `mv`"
   ]
  },
  {
   "cell_type": "markdown",
   "metadata": {},
   "source": [
    "[Contenido](#Contenido)"
   ]
  },
  {
   "cell_type": "markdown",
   "metadata": {},
   "source": [
    "`mv` puede cambiar la ubicación y el nombre de un archivo. Su sintaxis es `mv` *`origen`*  *`destino`*."
   ]
  },
  {
   "cell_type": "markdown",
   "metadata": {},
   "source": [
    "En el siguiente ejemplo se cambia el nombre del archivo `out.2` a `out.3`."
   ]
  },
  {
   "cell_type": "code",
   "execution_count": 14,
   "metadata": {
    "collapsed": false
   },
   "outputs": [
    {
     "name": "stdout",
     "output_type": "stream",
     "text": [
      "-rw-r--r--  1 jdvelasq  staff  0 Jul 16 11:37 out.1\r\n",
      "-rw-r--r--  1 jdvelasq  staff  0 Jul 16 11:37 out.3\r\n"
     ]
    }
   ],
   "source": [
    "mv out.2 out.3\n",
    "ls -l out*"
   ]
  },
  {
   "cell_type": "markdown",
   "metadata": {},
   "source": [
    "## Borrado de archivos con `rm`   "
   ]
  },
  {
   "cell_type": "markdown",
   "metadata": {},
   "source": [
    "[Contenido](#Contenido)"
   ]
  },
  {
   "cell_type": "markdown",
   "metadata": {},
   "source": [
    "A continuación se borran los archivos creados."
   ]
  },
  {
   "cell_type": "code",
   "execution_count": 15,
   "metadata": {
    "collapsed": false,
    "scrolled": true
   },
   "outputs": [
    {
     "name": "stdout",
     "output_type": "stream",
     "text": []
    }
   ],
   "source": [
    "rm out*"
   ]
  },
  {
   "cell_type": "markdown",
   "metadata": {},
   "source": [
    "<br>\n",
    "<br>"
   ]
  },
  {
   "cell_type": "markdown",
   "metadata": {},
   "source": [
    "# Impresión de texto"
   ]
  },
  {
   "cell_type": "markdown",
   "metadata": {},
   "source": [
    "[Contenido](#Contenido)"
   ]
  },
  {
   "cell_type": "markdown",
   "metadata": {},
   "source": [
    "## Impresión usando `echo` "
   ]
  },
  {
   "cell_type": "markdown",
   "metadata": {},
   "source": [
    "[Contenido](#Contenido)"
   ]
  },
  {
   "cell_type": "markdown",
   "metadata": {
    "slideshow": {
     "slide_type": "subslide"
    }
   },
   "source": [
    "El comando `echo` permite imprimir cadenas de texto sin delimitador o delimitadas por comillas simples o dobles. Note que las comillas obligan a que se respete el espacio entre palabras."
   ]
  },
  {
   "cell_type": "code",
   "execution_count": 16,
   "metadata": {
    "collapsed": false,
    "slideshow": {
     "slide_type": "subslide"
    }
   },
   "outputs": [
    {
     "name": "stdout",
     "output_type": "stream",
     "text": [
      "hola mundo cruel\r\n"
     ]
    }
   ],
   "source": [
    "echo hola     mundo    cruel # elimina los espacios en blanco entre las palabras"
   ]
  },
  {
   "cell_type": "code",
   "execution_count": 17,
   "metadata": {
    "collapsed": false
   },
   "outputs": [
    {
     "name": "stdout",
     "output_type": "stream",
     "text": [
      "hola     mundo    cruel\r\n"
     ]
    }
   ],
   "source": [
    "echo 'hola     mundo    cruel'"
   ]
  },
  {
   "cell_type": "code",
   "execution_count": 18,
   "metadata": {
    "collapsed": false,
    "scrolled": true
   },
   "outputs": [
    {
     "name": "stdout",
     "output_type": "stream",
     "text": [
      "hola     mundo    cruel\r\n"
     ]
    }
   ],
   "source": [
    "echo \"hola     mundo    cruel\""
   ]
  },
  {
   "cell_type": "markdown",
   "metadata": {},
   "source": [
    "Para imprimir varias líneas de texto se puede usar un `echo` por línea:"
   ]
  },
  {
   "cell_type": "code",
   "execution_count": 19,
   "metadata": {
    "collapsed": false,
    "scrolled": true
   },
   "outputs": [
    {
     "name": "stdout",
     "output_type": "stream",
     "text": [
      "linea 1\r\n",
      "linea 2\r\n",
      "linea 3\r\n"
     ]
    }
   ],
   "source": [
    "echo linea 1\n",
    "echo linea 2\n",
    "echo linea 3"
   ]
  },
  {
   "cell_type": "markdown",
   "metadata": {},
   "source": [
    "pero en este caso es posible usar las comillas"
   ]
  },
  {
   "cell_type": "code",
   "execution_count": 20,
   "metadata": {
    "collapsed": false,
    "scrolled": true
   },
   "outputs": [
    {
     "name": "stdout",
     "output_type": "stream",
     "text": [
      "linea 1\r\n",
      "linea 2\r\n",
      "linea 3\r\n"
     ]
    }
   ],
   "source": [
    "echo 'linea 1\n",
    "linea 2\n",
    "linea 3' "
   ]
  },
  {
   "cell_type": "markdown",
   "metadata": {},
   "source": [
    "El operador `\\` se usa para indicar que la línea lógica continua en el siguiente renglón físico; en el siguiente ejemplo todos los textos se imprimen en la misma línea."
   ]
  },
  {
   "cell_type": "code",
   "execution_count": 21,
   "metadata": {
    "collapsed": false,
    "scrolled": true
   },
   "outputs": [
    {
     "name": "stdout",
     "output_type": "stream",
     "text": [
      "linea 1 linea 2 linea 3\r\n"
     ]
    }
   ],
   "source": [
    "echo linea 1 \\\n",
    "linea 2 \\\n",
    "linea 3"
   ]
  },
  {
   "cell_type": "markdown",
   "metadata": {},
   "source": [
    "`echo` también admite el uso de caracteres de escape (precedidos por `'\\'`); en el siguiente ejemplo se usa el carácter de retorno de carro `'\\n'` en la cadena de texto para indicar el inicio de una nueva línea. Se debe usar la opción '-e' del comando `echo` para convertir los caracteres `\\n` en retornos de carro."
   ]
  },
  {
   "cell_type": "code",
   "execution_count": 22,
   "metadata": {
    "collapsed": false,
    "scrolled": true
   },
   "outputs": [
    {
     "name": "stdout",
     "output_type": "stream",
     "text": [
      "linea 1\r\n",
      "linea 2\r\n",
      "linea 3\r\n"
     ]
    }
   ],
   "source": [
    "echo -e \"linea 1\\nlinea 2\\nlinea 3\""
   ]
  },
  {
   "cell_type": "markdown",
   "metadata": {},
   "source": [
    "## Impresión de texto con formato usando `printf` "
   ]
  },
  {
   "cell_type": "markdown",
   "metadata": {},
   "source": [
    "[Contenido](#Contenido)"
   ]
  },
  {
   "cell_type": "markdown",
   "metadata": {},
   "source": [
    "Bash también tiene el comando `printf`, el cual usa una sintaxis similar a la del lenguaje C: \n",
    "\n",
    "* `%s` indica cadena de caracteres.\n",
    "* `%f` indica un número en punto flotante.\n",
    "* `%g` indica un número entero.\n",
    "\n",
    "En los siguientes ejemplos se ilustra como se puede indicar el tamaño del campo. Note la alineación de la impresión. "
   ]
  },
  {
   "cell_type": "code",
   "execution_count": 23,
   "metadata": {
    "collapsed": false,
    "scrolled": true
   },
   "outputs": [
    {
     "name": "stdout",
     "output_type": "stream",
     "text": [
      "hola mundo ---- 1.234568"
     ]
    }
   ],
   "source": [
    "printf '%s ---- %f' 'hola mundo'  1.23456789"
   ]
  },
  {
   "cell_type": "code",
   "execution_count": 24,
   "metadata": {
    "collapsed": false,
    "scrolled": true
   },
   "outputs": [
    {
     "name": "stdout",
     "output_type": "stream",
     "text": [
      "           hola ---     1.23"
     ]
    }
   ],
   "source": [
    "printf '%15s --- %8.2f'  hola   1.23456789"
   ]
  },
  {
   "cell_type": "code",
   "execution_count": 25,
   "metadata": {
    "collapsed": false,
    "scrolled": true
   },
   "outputs": [
    {
     "name": "stdout",
     "output_type": "stream",
     "text": [
      "     hola mundo ---   123.46"
     ]
    }
   ],
   "source": [
    "printf '%15s --- %8.2f'  'hola mundo'   123.456789"
   ]
  },
  {
   "cell_type": "markdown",
   "metadata": {},
   "source": [
    "## Impresión de secuencias usando `seq`"
   ]
  },
  {
   "cell_type": "markdown",
   "metadata": {},
   "source": [
    "[Contenido](#Contenido)"
   ]
  },
  {
   "cell_type": "markdown",
   "metadata": {},
   "source": [
    "En vez de `echo` se puede usar `seq` para imprimir secuencias."
   ]
  },
  {
   "cell_type": "code",
   "execution_count": 26,
   "metadata": {
    "collapsed": false,
    "scrolled": true
   },
   "outputs": [
    {
     "name": "stdout",
     "output_type": "stream",
     "text": [
      "1\r\n",
      "2\r\n",
      "3\r\n",
      "4\r\n",
      "5\r\n"
     ]
    }
   ],
   "source": [
    "seq 5"
   ]
  },
  {
   "cell_type": "markdown",
   "metadata": {},
   "source": [
    "La opción `-f` permite especificar  formato para la secuencia, por ejemplo:"
   ]
  },
  {
   "cell_type": "code",
   "execution_count": 27,
   "metadata": {
    "collapsed": false,
    "scrolled": true
   },
   "outputs": [
    {
     "name": "stdout",
     "output_type": "stream",
     "text": [
      "linea 1\r\n",
      "linea 2\r\n",
      "linea 3\r\n",
      "linea 4\r\n",
      "linea 5\r\n"
     ]
    }
   ],
   "source": [
    "seq -f\"linea %g\" 5"
   ]
  },
  {
   "cell_type": "markdown",
   "metadata": {},
   "source": [
    "La opción `-s` permite indicar el separador."
   ]
  },
  {
   "cell_type": "code",
   "execution_count": 28,
   "metadata": {
    "collapsed": false,
    "scrolled": true
   },
   "outputs": [
    {
     "name": "stdout",
     "output_type": "stream",
     "text": [
      "2,4,6,8,10,"
     ]
    }
   ],
   "source": [
    "seq -s, 2 2 10 # el separador es la coma"
   ]
  },
  {
   "cell_type": "markdown",
   "metadata": {},
   "source": [
    "La opción `-w` permite especificar formato."
   ]
  },
  {
   "cell_type": "code",
   "execution_count": 29,
   "metadata": {
    "collapsed": false,
    "scrolled": true
   },
   "outputs": [
    {
     "name": "stdout",
     "output_type": "stream",
     "text": [
      "0\r\n",
      "0.05\r\n",
      "0.1\r\n"
     ]
    }
   ],
   "source": [
    "seq 0 .05 .1 # valor inicial, incremento y valor final"
   ]
  },
  {
   "cell_type": "code",
   "execution_count": 30,
   "metadata": {
    "collapsed": false,
    "scrolled": true
   },
   "outputs": [
    {
     "name": "stdout",
     "output_type": "stream",
     "text": [
      "0.00\r\n",
      "0.05\r\n",
      "0.10\r\n"
     ]
    }
   ],
   "source": [
    "seq -w 0 .05 .1"
   ]
  },
  {
   "cell_type": "markdown",
   "metadata": {},
   "source": [
    "# Redireccionamiento de la entrada, la salida y pipes "
   ]
  },
  {
   "cell_type": "markdown",
   "metadata": {},
   "source": [
    "[Contenido](#Contenido)"
   ]
  },
  {
   "cell_type": "markdown",
   "metadata": {},
   "source": [
    "Entre las características más importantes para la transformación de datos sobresalen la posibilidad de redireccionar tanto la entrada como la salida, y el uso de tuberías para usar la salida de un comando como la entrada del siguiente. El direccionamiento de la salida por pantalla a un archivo se realiza usando el operador `>`. Si el archivo al que se direcciona no existe, lo crea; y si existe lo sobrescribe. Para que la salida se agregue al contenido de un archivo existente se utiliza el operador `>>`."
   ]
  },
  {
   "cell_type": "markdown",
   "metadata": {},
   "source": [
    "En el siguiente ejemplo se imprime `hola mundo feliz` en el archivo `out.1`."
   ]
  },
  {
   "cell_type": "code",
   "execution_count": 31,
   "metadata": {
    "collapsed": false
   },
   "outputs": [
    {
     "name": "stdout",
     "output_type": "stream",
     "text": [
      "hola mundo feliz\r\n"
     ]
    }
   ],
   "source": [
    "echo hola mundo feliz > out.1\n",
    "cat out.1"
   ]
  },
  {
   "cell_type": "markdown",
   "metadata": {},
   "source": [
    "Por otra parte, el operador `<` indica que la entrada al comando se hace desde un archivo. Más adelante se presentan muchos ejemplos sobre este operador."
   ]
  },
  {
   "cell_type": "markdown",
   "metadata": {},
   "source": [
    "Finalmente, es posible víncular dos o más comandos con `|`, tal que la salida del primero es la entrada del segundo. "
   ]
  },
  {
   "cell_type": "markdown",
   "metadata": {},
   "source": [
    "<br>\n",
    "<br>"
   ]
  },
  {
   "cell_type": "markdown",
   "metadata": {},
   "source": [
    "# Visualización de archivos"
   ]
  },
  {
   "cell_type": "markdown",
   "metadata": {},
   "source": [
    "[Contenido](#Contenido)"
   ]
  },
  {
   "cell_type": "markdown",
   "metadata": {},
   "source": [
    "## Visualización del contenido de un archivo con `cat`  "
   ]
  },
  {
   "cell_type": "markdown",
   "metadata": {},
   "source": [
    "[Contenido](#Contenido)"
   ]
  },
  {
   "cell_type": "markdown",
   "metadata": {},
   "source": [
    "El comando `cat`  *`nombrearchivo`* imprime en pantalla el contenido del archivo."
   ]
  },
  {
   "cell_type": "code",
   "execution_count": 32,
   "metadata": {
    "collapsed": false,
    "scrolled": true
   },
   "outputs": [
    {
     "name": "stdout",
     "output_type": "stream",
     "text": [
      "hola mundo feliz\r\n"
     ]
    }
   ],
   "source": [
    "echo hola mundo feliz > out.1\n",
    "cat out.1  # imprime el contenido de out.1"
   ]
  },
  {
   "cell_type": "code",
   "execution_count": 33,
   "metadata": {
    "collapsed": false,
    "scrolled": true
   },
   "outputs": [
    {
     "name": "stdout",
     "output_type": "stream",
     "text": [
      "hola mundo feliz\r\n",
      "otra vez hola mundo feliz\r\n"
     ]
    }
   ],
   "source": [
    "echo \"otra vez hola mundo feliz\" >> out.1 # agrega la nueva impresión al final de out.1\n",
    "cat out.1"
   ]
  },
  {
   "cell_type": "markdown",
   "metadata": {},
   "source": [
    "El comando `echo` sin argumentos permite crear un archivo vacío."
   ]
  },
  {
   "cell_type": "code",
   "execution_count": 34,
   "metadata": {
    "collapsed": false,
    "scrolled": true
   },
   "outputs": [
    {
     "name": "stdout",
     "output_type": "stream",
     "text": [
      "\r\n"
     ]
    }
   ],
   "source": [
    "echo > out.1\n",
    "cat out.1"
   ]
  },
  {
   "cell_type": "markdown",
   "metadata": {},
   "source": [
    "Suponga que se desea almacenar en un archivo el siguiente texto:\n",
    "\n",
    "     CustomerID, Customer\n",
    "        1, Customer A\n",
    "        2, Customer B\n",
    "\n",
    "Para ello, existen varias alternativas. La primera opción es:"
   ]
  },
  {
   "cell_type": "code",
   "execution_count": null,
   "metadata": {
    "collapsed": true
   },
   "outputs": [],
   "source": [
    "echo CustomerID, Customer > out.1\n",
    "echo    1, Customer A >> out.1\n",
    "echo    2, Customer B >> out.1"
   ]
  },
  {
   "cell_type": "markdown",
   "metadata": {},
   "source": [
    "La segunda opción es:"
   ]
  },
  {
   "cell_type": "code",
   "execution_count": null,
   "metadata": {
    "collapsed": true
   },
   "outputs": [],
   "source": [
    "echo \"CustomerID, Customer\n",
    "   1, Customer A\n",
    "   2, Customer B\" > out.1"
   ]
  },
  {
   "cell_type": "markdown",
   "metadata": {},
   "source": [
    "Pero existe una tercera opción que es la siguiente:"
   ]
  },
  {
   "cell_type": "code",
   "execution_count": 1,
   "metadata": {
    "collapsed": false,
    "scrolled": true
   },
   "outputs": [
    {
     "name": "stdout",
     "output_type": "stream",
     "text": []
    }
   ],
   "source": [
    "cat > out.1 <<EOF\n",
    "CustomerID, Customer\n",
    "   1, Customer A\n",
    "   2, Customer B\n",
    "EOF"
   ]
  },
  {
   "cell_type": "code",
   "execution_count": 36,
   "metadata": {
    "collapsed": false,
    "scrolled": true
   },
   "outputs": [
    {
     "name": "stdout",
     "output_type": "stream",
     "text": [
      "CustomerID, Customer\r\n",
      "   1, Customer A\r\n",
      "   2, Customer B\r\n"
     ]
    }
   ],
   "source": [
    "cat out.1"
   ]
  },
  {
   "cell_type": "markdown",
   "metadata": {},
   "source": [
    "El contenido del archivo se escribe directamente entre <<EOF y EOF.\n",
    "\n",
    "El principal uso de `cat` es la concatenación de archivos. En la siguiente porción de código se generan los archivos `out.1`, `out.2` y `out.3`, y luego se imprimen sus contenidos de forma concatenada."
   ]
  },
  {
   "cell_type": "code",
   "execution_count": 1,
   "metadata": {
    "collapsed": false,
    "scrolled": true
   },
   "outputs": [
    {
     "name": "stdout",
     "output_type": "stream",
     "text": [
      "linea 1\r\n",
      "linea 2\r\n",
      "linea 3\r\n",
      "linea 4\r\n",
      "linea 5\r\n",
      "linea 6\r\n",
      "linea 7\r\n",
      "linea 8\r\n",
      "linea 9\r\n"
     ]
    }
   ],
   "source": [
    "seq -f\"linea %g\" 1 1 3 > out.1\n",
    "seq -f\"linea %g\" 4 1 6 > out.2\n",
    "seq -f\"linea %g\" 7 1 9 > out.3\n",
    "cat out.1 out.2 out.3"
   ]
  },
  {
   "cell_type": "markdown",
   "metadata": {},
   "source": [
    "Una forma más compacta es usar la expresión `out.*`, la cual representa todos los archivos cuyos nombres empiezan por `out.`. De esta forma, el comando anterior se convierte en: "
   ]
  },
  {
   "cell_type": "code",
   "execution_count": 2,
   "metadata": {
    "collapsed": false,
    "scrolled": true
   },
   "outputs": [
    {
     "name": "stdout",
     "output_type": "stream",
     "text": [
      "linea 1\r\n",
      "linea 2\r\n",
      "linea 3\r\n",
      "linea 4\r\n",
      "linea 5\r\n",
      "linea 6\r\n",
      "linea 7\r\n",
      "linea 8\r\n",
      "linea 9\r\n"
     ]
    }
   ],
   "source": [
    "cat out.*"
   ]
  },
  {
   "cell_type": "markdown",
   "metadata": {},
   "source": [
    "Algunos sistemas incorporan el comando `tac` que imprime el contenido de un archivo empezando por la última línea."
   ]
  },
  {
   "cell_type": "markdown",
   "metadata": {},
   "source": [
    "## Visualización del inicio de un archivo con `head`"
   ]
  },
  {
   "cell_type": "markdown",
   "metadata": {},
   "source": [
    "[Contenido](#Contenido)"
   ]
  },
  {
   "cell_type": "markdown",
   "metadata": {},
   "source": [
    "El comando `head` se usa para visualizar una porción inicial del contenido de un archivo. `head` imprime por defecto las primeras 10 líneas. La cantidad de líneas visualizadas se puede modificar mediante la opción `-n`."
   ]
  },
  {
   "cell_type": "code",
   "execution_count": 38,
   "metadata": {
    "collapsed": false,
    "scrolled": false
   },
   "outputs": [
    {
     "name": "stdout",
     "output_type": "stream",
     "text": [
      "linea 1\r\n",
      "linea 2\r\n",
      "linea 3\r\n"
     ]
    }
   ],
   "source": [
    "seq -f\"linea %g\" 100 > out.1 # se generan 100 líneas\n",
    "head -n 3 out.1"
   ]
  },
  {
   "cell_type": "markdown",
   "metadata": {},
   "source": [
    "---"
   ]
  },
  {
   "cell_type": "markdown",
   "metadata": {},
   "source": [
    "**Ejercicio.--** Cuáles son los nombres de las columnas del archivo `employee`?"
   ]
  },
  {
   "cell_type": "code",
   "execution_count": null,
   "metadata": {
    "collapsed": true
   },
   "outputs": [],
   "source": []
  },
  {
   "cell_type": "markdown",
   "metadata": {},
   "source": [
    "---"
   ]
  },
  {
   "cell_type": "markdown",
   "metadata": {},
   "source": [
    "## Visualización del final de un archivo con `tail`  "
   ]
  },
  {
   "cell_type": "markdown",
   "metadata": {},
   "source": [
    "[Contenido](#Contenido)"
   ]
  },
  {
   "cell_type": "markdown",
   "metadata": {},
   "source": [
    "De forma similar al comando `head`, el comando `tail` permite visualizar las últimas líneas de un archivo."
   ]
  },
  {
   "cell_type": "code",
   "execution_count": 39,
   "metadata": {
    "collapsed": false,
    "scrolled": true
   },
   "outputs": [
    {
     "name": "stdout",
     "output_type": "stream",
     "text": [
      "linea 98\r\n",
      "linea 99\r\n",
      "linea 100\r\n"
     ]
    }
   ],
   "source": [
    "tail -n 3 out.1"
   ]
  },
  {
   "cell_type": "markdown",
   "metadata": {},
   "source": [
    "En el siguiente ejemplo, el argumento `+5` indica que se imprime desde la línea 5 hasta el final."
   ]
  },
  {
   "cell_type": "code",
   "execution_count": 40,
   "metadata": {
    "collapsed": false,
    "scrolled": true
   },
   "outputs": [
    {
     "name": "stdout",
     "output_type": "stream",
     "text": [
      "linea 5\r\n",
      "linea 6\r\n"
     ]
    }
   ],
   "source": [
    "seq -f'linea %g' 6 > out.1\n",
    "tail +5 out.1"
   ]
  },
  {
   "cell_type": "markdown",
   "metadata": {},
   "source": [
    "Se pueden escribir varios comandos en la misma línea separándolos por `;`."
   ]
  },
  {
   "cell_type": "code",
   "execution_count": 41,
   "metadata": {
    "collapsed": false,
    "scrolled": true
   },
   "outputs": [
    {
     "name": "stdout",
     "output_type": "stream",
     "text": [
      "1\r\n",
      "2\r\n",
      "3\r\n"
     ]
    }
   ],
   "source": [
    "echo 1; echo 2; echo 3"
   ]
  },
  {
   "cell_type": "markdown",
   "metadata": {},
   "source": [
    "---"
   ]
  },
  {
   "cell_type": "markdown",
   "metadata": {},
   "source": [
    "**Ejercicio.--** Pegue el contenido de los archivos `order2000`, ..., `order2015`."
   ]
  },
  {
   "cell_type": "code",
   "execution_count": null,
   "metadata": {
    "collapsed": true
   },
   "outputs": [],
   "source": []
  },
  {
   "cell_type": "markdown",
   "metadata": {},
   "source": [
    "**Ejercicio.--** Cuál es el nombre del último empleado en el archivo `employee`?"
   ]
  },
  {
   "cell_type": "code",
   "execution_count": null,
   "metadata": {
    "collapsed": true
   },
   "outputs": [],
   "source": []
  },
  {
   "cell_type": "markdown",
   "metadata": {},
   "source": [
    "---"
   ]
  },
  {
   "cell_type": "markdown",
   "metadata": {},
   "source": [
    "## Visualización del contenido de un archivo con `more` y `less`"
   ]
  },
  {
   "cell_type": "markdown",
   "metadata": {},
   "source": [
    "[Contenido](#Contenido)"
   ]
  },
  {
   "cell_type": "markdown",
   "metadata": {},
   "source": [
    "Unix también proporciona los comandos `more` (versión más antigua) y `less` para la visualización del contenido de archivos. Simplemente digite `less` *`nombrearchivo`* para iniciar la visualización."
   ]
  },
  {
   "cell_type": "markdown",
   "metadata": {},
   "source": [
    "* Use la tecla `Space` para avanzar una página.\n",
    "* Use `Ctrl-F` (Forward) y `Ctrl-B`  (Backward) para avanzar o retroceder una página.\n",
    "* Use las teclas arriba y abajo para moverse una línea a la vez.\n",
    "* Digite el número de línea y `G` (go to) para ir a una línea determinada.\n",
    "* Digite `q` para salir de `less`"
   ]
  },
  {
   "cell_type": "markdown",
   "metadata": {},
   "source": [
    "<br>\n",
    "<br>"
   ]
  },
  {
   "cell_type": "markdown",
   "metadata": {},
   "source": [
    "# Tranformación de archivos"
   ]
  },
  {
   "cell_type": "markdown",
   "metadata": {},
   "source": [
    "[Contenido](#Contenido)"
   ]
  },
  {
   "cell_type": "markdown",
   "metadata": {},
   "source": [
    "## Ordenación de un archivo con `sort`  "
   ]
  },
  {
   "cell_type": "markdown",
   "metadata": {},
   "source": [
    "[Contenido](#Contenido)"
   ]
  },
  {
   "cell_type": "markdown",
   "metadata": {},
   "source": [
    "El comando `sort` permite ordenar el contenido de un archivo. El ordanamiento se realiza con base en el contenido total de cada línea. En el siguiente ejemplo, el operador `'|'` pasa la salida de `cat` como entrada a `sort`. "
   ]
  },
  {
   "cell_type": "code",
   "execution_count": 44,
   "metadata": {
    "collapsed": false,
    "scrolled": true
   },
   "outputs": [
    {
     "name": "stdout",
     "output_type": "stream",
     "text": [
      "linea 1\r\n",
      "linea 1\r\n",
      "linea 1\r\n",
      "linea 2\r\n",
      "linea 2\r\n",
      "linea 2\r\n",
      "linea 3\r\n",
      "linea 3\r\n",
      "linea 3\r\n"
     ]
    }
   ],
   "source": [
    "seq -f'linea %g' 3 > out.1\n",
    "cat out.1 out.1 out.1 | sort"
   ]
  },
  {
   "cell_type": "markdown",
   "metadata": {},
   "source": [
    "---"
   ]
  },
  {
   "cell_type": "markdown",
   "metadata": {},
   "source": [
    "**Ejercicio.--**  Ordene el archivo `employee0`  por `EmployeeName`."
   ]
  },
  {
   "cell_type": "code",
   "execution_count": null,
   "metadata": {
    "collapsed": true
   },
   "outputs": [],
   "source": []
  },
  {
   "cell_type": "markdown",
   "metadata": {},
   "source": [
    "**Ejercicio.--** Ordene el archivo anterior por `CustomerID` y luego por `Date`."
   ]
  },
  {
   "cell_type": "code",
   "execution_count": null,
   "metadata": {
    "collapsed": true
   },
   "outputs": [],
   "source": []
  },
  {
   "cell_type": "markdown",
   "metadata": {},
   "source": [
    "---"
   ]
  },
  {
   "cell_type": "markdown",
   "metadata": {},
   "source": [
    "## Obtención de las líneas únicas de un archivo con `uniq`"
   ]
  },
  {
   "cell_type": "markdown",
   "metadata": {},
   "source": [
    "[Contenido](#Contenido)"
   ]
  },
  {
   "cell_type": "markdown",
   "metadata": {},
   "source": [
    "El comando `uniq` permite obtener el contenido de un archivo eliminando las líneas repetidas. Observe que en los siguientes ejemplos solo se eliminan las líneas repetidas que son secuenciales."
   ]
  },
  {
   "cell_type": "code",
   "execution_count": 46,
   "metadata": {
    "collapsed": false,
    "scrolled": true
   },
   "outputs": [
    {
     "name": "stdout",
     "output_type": "stream",
     "text": [
      "linea 1\r\n",
      "linea 1\r\n",
      "linea 1\r\n",
      "linea 2\r\n",
      "linea 2\r\n",
      "linea 2\r\n",
      "linea 1\r\n",
      "linea 1\r\n",
      "linea 1\r\n",
      "linea 2\r\n",
      "linea 2\r\n",
      "linea 2\r\n"
     ]
    }
   ],
   "source": [
    "seq -f'linea 1' 3 > out.1 # genera el primer archivo de datos\n",
    "seq -f'linea 2' 3 > out.2 # genera el segundo archivo de datos\n",
    "cat out.1 out.2 out.1 out.2"
   ]
  },
  {
   "cell_type": "code",
   "execution_count": 47,
   "metadata": {
    "collapsed": false,
    "scrolled": true
   },
   "outputs": [
    {
     "name": "stdout",
     "output_type": "stream",
     "text": [
      "linea 1\r\n",
      "linea 2\r\n",
      "linea 1\r\n",
      "linea 2\r\n"
     ]
    }
   ],
   "source": [
    "cat out.1 out.2 out.1 out.2 |  uniq"
   ]
  },
  {
   "cell_type": "code",
   "execution_count": 48,
   "metadata": {
    "collapsed": false,
    "scrolled": true
   },
   "outputs": [
    {
     "name": "stdout",
     "output_type": "stream",
     "text": [
      "linea 1\r\n",
      "linea 2\r\n"
     ]
    }
   ],
   "source": [
    "cat out.1 out.2 out.1 out.2 | sort | uniq"
   ]
  },
  {
   "cell_type": "markdown",
   "metadata": {},
   "source": [
    "---"
   ]
  },
  {
   "cell_type": "markdown",
   "metadata": {},
   "source": [
    "**Ejercicio.--**  Elimine los registros duplicados del archivo `employee0`."
   ]
  },
  {
   "cell_type": "markdown",
   "metadata": {},
   "source": [
    "---"
   ]
  },
  {
   "cell_type": "markdown",
   "metadata": {},
   "source": [
    "## Conteo de la cantidad de líneas, palabras y caracteres de archivo usando `wc`"
   ]
  },
  {
   "cell_type": "markdown",
   "metadata": {},
   "source": [
    "[Contenido](#Contenido)"
   ]
  },
  {
   "cell_type": "markdown",
   "metadata": {},
   "source": [
    "El comando `wc` permite contar líneas, palabras, caracteres y bytes de un archivo. La opción `-l` cuenta líneas,  `-m` caracteres y `-w` palabras."
   ]
  },
  {
   "cell_type": "code",
   "execution_count": 49,
   "metadata": {
    "collapsed": false,
    "scrolled": true
   },
   "outputs": [
    {
     "name": "stdout",
     "output_type": "stream",
     "text": [
      "       3 out.1\r\n",
      "       3 out.2\r\n",
      "       6 total\r\n"
     ]
    }
   ],
   "source": [
    "wc -l out.1 out.2 # número de líneas"
   ]
  },
  {
   "cell_type": "code",
   "execution_count": 50,
   "metadata": {
    "collapsed": false,
    "scrolled": true
   },
   "outputs": [
    {
     "name": "stdout",
     "output_type": "stream",
     "text": [
      "      24 out.1\r\n",
      "      24 out.2\r\n",
      "      48 total\r\n"
     ]
    }
   ],
   "source": [
    "wc -m out.1 out.2 # número de caracteres"
   ]
  },
  {
   "cell_type": "code",
   "execution_count": 51,
   "metadata": {
    "collapsed": false,
    "scrolled": true
   },
   "outputs": [
    {
     "name": "stdout",
     "output_type": "stream",
     "text": [
      "       6 out.1\r\n",
      "       6 out.2\r\n",
      "      12 total\r\n"
     ]
    }
   ],
   "source": [
    "wc -w out.1 out.2 # número de palabras"
   ]
  },
  {
   "cell_type": "code",
   "execution_count": 52,
   "metadata": {
    "collapsed": false,
    "scrolled": false
   },
   "outputs": [
    {
     "name": "stdout",
     "output_type": "stream",
     "text": [
      "       3       6      24 out.1\r\n",
      "       3       6      24 out.2\r\n",
      "       6      12      48 total\r\n"
     ]
    }
   ],
   "source": [
    "wc out.1 out.2 "
   ]
  },
  {
   "cell_type": "markdown",
   "metadata": {},
   "source": [
    "---"
   ]
  },
  {
   "cell_type": "markdown",
   "metadata": {},
   "source": [
    "**Ejercicio.--** Cuántos registros tienen los archivos `product`, `orderline` y `customer`?"
   ]
  },
  {
   "cell_type": "code",
   "execution_count": null,
   "metadata": {
    "collapsed": true
   },
   "outputs": [],
   "source": []
  },
  {
   "cell_type": "markdown",
   "metadata": {},
   "source": [
    "**Ejercicio.--** Cuántas columnas tiene los archivos `product`, `orderline` y `customer`?"
   ]
  },
  {
   "cell_type": "code",
   "execution_count": null,
   "metadata": {
    "collapsed": true
   },
   "outputs": [],
   "source": []
  },
  {
   "cell_type": "markdown",
   "metadata": {},
   "source": [
    "---"
   ]
  },
  {
   "cell_type": "markdown",
   "metadata": {},
   "source": [
    "## Búsqueda de patrones con `grep`"
   ]
  },
  {
   "cell_type": "markdown",
   "metadata": {},
   "source": [
    "[Contenido](#Contenido)"
   ]
  },
  {
   "cell_type": "markdown",
   "metadata": {},
   "source": [
    "El comando `grep` permite imprime las líneas del archivo que contiene una cadena de texto especificada. En los siguentes ejemplos se imprimen los números del 1 al 20 que contienen un `'1'`."
   ]
  },
  {
   "cell_type": "code",
   "execution_count": 53,
   "metadata": {
    "collapsed": false,
    "scrolled": true
   },
   "outputs": [
    {
     "name": "stdout",
     "output_type": "stream",
     "text": [
      "1\r\n",
      "10\r\n",
      "11\r\n",
      "12\r\n",
      "13\r\n",
      "14\r\n",
      "15\r\n",
      "16\r\n",
      "17\r\n",
      "18\r\n",
      "19\r\n"
     ]
    }
   ],
   "source": [
    "seq 20 | grep 1"
   ]
  },
  {
   "cell_type": "code",
   "execution_count": 54,
   "metadata": {
    "collapsed": false,
    "scrolled": true
   },
   "outputs": [
    {
     "name": "stdout",
     "output_type": "stream",
     "text": [
      "linea 1\r\n",
      "linea 10\r\n",
      "linea 11\r\n",
      "linea 12\r\n",
      "linea 13\r\n",
      "linea 14\r\n",
      "linea 15\r\n",
      "linea 16\r\n",
      "linea 17\r\n",
      "linea 18\r\n",
      "linea 19\r\n"
     ]
    }
   ],
   "source": [
    "seq -f'linea %g' 20 > out.1\n",
    "grep 1 out.1"
   ]
  },
  {
   "cell_type": "markdown",
   "metadata": {},
   "source": [
    "El símbolo `$` indica que la cadena de texto debe aparecer al final de la línea. El símbolo `^` indica que la cadena de texto debe aparecer al principio de la línea."
   ]
  },
  {
   "cell_type": "code",
   "execution_count": 55,
   "metadata": {
    "collapsed": false,
    "scrolled": true
   },
   "outputs": [
    {
     "name": "stdout",
     "output_type": "stream",
     "text": [
      "1\r\n",
      "11\r\n",
      "21\r\n",
      "31\r\n",
      "41\r\n",
      "51\r\n",
      "61\r\n",
      "71\r\n",
      "81\r\n",
      "91\r\n"
     ]
    }
   ],
   "source": [
    "seq 100 | grep 1$  # imprime los números del 1 al 100 que finalizan con 1."
   ]
  },
  {
   "cell_type": "code",
   "execution_count": 56,
   "metadata": {
    "collapsed": false,
    "scrolled": true
   },
   "outputs": [
    {
     "name": "stdout",
     "output_type": "stream",
     "text": [
      "1\r\n",
      "10\r\n",
      "11\r\n",
      "12\r\n",
      "13\r\n",
      "14\r\n",
      "15\r\n",
      "16\r\n",
      "17\r\n",
      "18\r\n",
      "19\r\n",
      "100\r\n"
     ]
    }
   ],
   "source": [
    "seq 100 | grep ^1  # imprime los números del 1 al 100 que empiezan con 1."
   ]
  },
  {
   "cell_type": "markdown",
   "metadata": {},
   "source": [
    "La combinación de los comandos anteriores permiten realizar operaciones complejas. En el siguiente ejemplo se obtiene la cantidad de números del 1 al 20 que contienen un `'1'`."
   ]
  },
  {
   "cell_type": "code",
   "execution_count": 57,
   "metadata": {
    "collapsed": false,
    "scrolled": false
   },
   "outputs": [
    {
     "name": "stdout",
     "output_type": "stream",
     "text": [
      "      11\r\n"
     ]
    }
   ],
   "source": [
    "seq 20 | grep 1 | wc -l"
   ]
  },
  {
   "cell_type": "markdown",
   "metadata": {},
   "source": [
    "---"
   ]
  },
  {
   "cell_type": "markdown",
   "metadata": {},
   "source": [
    "**Ejercicio.--** Cuántos registros hay para la ciudad de AUSTIN en el archivo `consumer`?"
   ]
  },
  {
   "cell_type": "code",
   "execution_count": null,
   "metadata": {
    "collapsed": true
   },
   "outputs": [],
   "source": []
  },
  {
   "cell_type": "markdown",
   "metadata": {},
   "source": [
    "---"
   ]
  },
  {
   "cell_type": "markdown",
   "metadata": {},
   "source": [
    "## Reemplazo de caracteres con `tr`"
   ]
  },
  {
   "cell_type": "markdown",
   "metadata": {},
   "source": [
    "[Contenido](#Contenido)"
   ]
  },
  {
   "cell_type": "markdown",
   "metadata": {},
   "source": [
    "También existen comandos para manipular textos. El comando `tr` permite cambiar una cadena de texto por otra. "
   ]
  },
  {
   "cell_type": "code",
   "execution_count": 59,
   "metadata": {
    "collapsed": false,
    "scrolled": true
   },
   "outputs": [
    {
     "name": "stdout",
     "output_type": "stream",
     "text": [
      "hola mundo\r\n"
     ]
    }
   ],
   "source": [
    "echo 'h-o-l-a- -m-u-n-d-o' > out.1\n",
    "tr -d '-'  < out.1 # borra los caracteres '-'."
   ]
  },
  {
   "cell_type": "code",
   "execution_count": 60,
   "metadata": {
    "collapsed": false,
    "scrolled": true
   },
   "outputs": [
    {
     "name": "stdout",
     "output_type": "stream",
     "text": [
      "h=o=l=a= =m=u=n=d=o\r\n"
     ]
    }
   ],
   "source": [
    "echo 'h-o-l-a- -m-u-n-d-o' > out.1\n",
    "tr '-'  '=' < out.1  #  '-' por '='."
   ]
  },
  {
   "cell_type": "code",
   "execution_count": 61,
   "metadata": {
    "collapsed": false,
    "scrolled": true
   },
   "outputs": [
    {
     "name": "stdout",
     "output_type": "stream",
     "text": [
      "H-O-L-A- -M-U-N-D-O\r\n"
     ]
    }
   ],
   "source": [
    "echo 'h-o-l-a- -m-u-n-d-o' > out.1\n",
    "tr '[:lower:]'  '[:upper:]' < out.1  # minúsculas a mayúsculas."
   ]
  },
  {
   "cell_type": "markdown",
   "metadata": {},
   "source": [
    "---"
   ]
  },
  {
   "cell_type": "markdown",
   "metadata": {},
   "source": [
    "**Ejercicio.--** Para el siguiente archivo, convierta únicamente la primera fila a minúsculas."
   ]
  },
  {
   "cell_type": "code",
   "execution_count": 62,
   "metadata": {
    "collapsed": false
   },
   "outputs": [
    {
     "name": "stdout",
     "output_type": "stream",
     "text": []
    }
   ],
   "source": [
    "cat > out.1 <<EOF\n",
    "Date, Year, CustomerID, Value\n",
    "2013-01-12, 2013, 1, 100\n",
    "2014-05-12, 2014, 1, 100\n",
    "2013-02-25, 2013, 2, 200\n",
    "2013-04-04, 2013, 1, 100\n",
    "2013-06-21, 2013, 2, 200\n",
    "2014-05-12, 2014, 1, 100\n",
    "2014-05-12, 2014, 2, 200\n",
    "2013-02-28, 2013, 1, 100\n",
    "2013-08-02, 2013, 1, 100\n",
    "EOF"
   ]
  },
  {
   "cell_type": "code",
   "execution_count": null,
   "metadata": {
    "collapsed": true
   },
   "outputs": [],
   "source": []
  },
  {
   "cell_type": "markdown",
   "metadata": {},
   "source": [
    "**Ejercicio.--** Convierta a minúsculas todos los caracteres del archivo `employee`."
   ]
  },
  {
   "cell_type": "code",
   "execution_count": null,
   "metadata": {
    "collapsed": true
   },
   "outputs": [],
   "source": []
  },
  {
   "cell_type": "markdown",
   "metadata": {},
   "source": [
    "---"
   ]
  },
  {
   "cell_type": "markdown",
   "metadata": {},
   "source": [
    "## Edición de archivos con `sed`"
   ]
  },
  {
   "cell_type": "markdown",
   "metadata": {},
   "source": [
    "[Contenido](#Contenido)"
   ]
  },
  {
   "cell_type": "markdown",
   "metadata": {
    "collapsed": false
   },
   "source": [
    "`sed` es un editor de flujos que puede ser usado para extraer, adicionar o reemplazar textos en un archivo. En ciencia de los datos resulta particularmente interesante para realizar impresión, sustitución y borrado de texto. Cada comando es representado por una letra y el carácter `/` es usado como un delimitador.\n"
   ]
  },
  {
   "cell_type": "markdown",
   "metadata": {},
   "source": [
    "En este ejemplo se usa `sed` para realizar búsquedas (como se hace con `grep`). Primero se imprimen los primeros 20 números a un archivo."
   ]
  },
  {
   "cell_type": "code",
   "execution_count": 63,
   "metadata": {
    "collapsed": false
   },
   "outputs": [
    {
     "name": "stdout",
     "output_type": "stream",
     "text": []
    }
   ],
   "source": [
    "seq 20 > out.1"
   ]
  },
  {
   "cell_type": "markdown",
   "metadata": {},
   "source": [
    "Para imprimir todas las líneas que tienen un '1' se usaría: "
   ]
  },
  {
   "cell_type": "code",
   "execution_count": 64,
   "metadata": {
    "collapsed": false
   },
   "outputs": [
    {
     "name": "stdout",
     "output_type": "stream",
     "text": [
      "1\r\n",
      "10\r\n",
      "11\r\n",
      "12\r\n",
      "13\r\n",
      "14\r\n",
      "15\r\n",
      "16\r\n",
      "17\r\n",
      "18\r\n",
      "19\r\n"
     ]
    }
   ],
   "source": [
    "sed -n '/1/p'  out.1"
   ]
  },
  {
   "cell_type": "markdown",
   "metadata": {},
   "source": [
    "La opción `-n` indica que no debe imprimirse en pantalla cada línea leída del archivo `out.1`. La cadena `/1/` indica la expresión regular (en este caso que la línea contenga un `1`, los '/'  son delimitadores). La `p`  al final indica que se imprima la línea. "
   ]
  },
  {
   "cell_type": "markdown",
   "metadata": {},
   "source": [
    "Para imprimir todas las líneas que tienen un `1` al final."
   ]
  },
  {
   "cell_type": "code",
   "execution_count": 65,
   "metadata": {
    "collapsed": false,
    "scrolled": false
   },
   "outputs": [
    {
     "name": "stdout",
     "output_type": "stream",
     "text": [
      "1\r\n",
      "11\r\n"
     ]
    }
   ],
   "source": [
    "sed -n '/1$/p'  out.1"
   ]
  },
  {
   "cell_type": "markdown",
   "metadata": {},
   "source": [
    "El siguiente comando imprime la tercera línea:"
   ]
  },
  {
   "cell_type": "code",
   "execution_count": 66,
   "metadata": {
    "collapsed": false
   },
   "outputs": [
    {
     "name": "stdout",
     "output_type": "stream",
     "text": [
      "3\r\n"
     ]
    }
   ],
   "source": [
    "sed -n '3p' out.1"
   ]
  },
  {
   "cell_type": "markdown",
   "metadata": {},
   "source": [
    "El siguiente comando imprime de la línea 3 a la línea 6 del archivo."
   ]
  },
  {
   "cell_type": "code",
   "execution_count": 67,
   "metadata": {
    "collapsed": false,
    "scrolled": true
   },
   "outputs": [
    {
     "name": "stdout",
     "output_type": "stream",
     "text": [
      "3\r\n",
      "4\r\n",
      "5\r\n",
      "6\r\n"
     ]
    }
   ],
   "source": [
    "sed -n '3,6 p' out.1 "
   ]
  },
  {
   "cell_type": "markdown",
   "metadata": {},
   "source": [
    "De la línea 15 al final:"
   ]
  },
  {
   "cell_type": "code",
   "execution_count": 68,
   "metadata": {
    "collapsed": false
   },
   "outputs": [
    {
     "name": "stdout",
     "output_type": "stream",
     "text": [
      "15\r\n",
      "16\r\n",
      "17\r\n",
      "18\r\n",
      "19\r\n",
      "20\r\n"
     ]
    }
   ],
   "source": [
    "sed -n '15,$ p' out.1"
   ]
  },
  {
   "cell_type": "markdown",
   "metadata": {},
   "source": [
    "El comando `d` indica borrado; por ejemplo, para borrar de las líneas 2 a la 19 se usaría"
   ]
  },
  {
   "cell_type": "code",
   "execution_count": 69,
   "metadata": {
    "collapsed": false
   },
   "outputs": [
    {
     "name": "stdout",
     "output_type": "stream",
     "text": [
      "1\r\n",
      "20\r\n"
     ]
    }
   ],
   "source": [
    "sed  '2,19 d' out.1"
   ]
  },
  {
   "cell_type": "markdown",
   "metadata": {},
   "source": [
    "---"
   ]
  },
  {
   "cell_type": "markdown",
   "metadata": {},
   "source": [
    "**Ejercicio.--** Para el siguiente archivo, elimine las líneas con datos faltantes. Estos se han identificado con la cadena `NA`."
   ]
  },
  {
   "cell_type": "code",
   "execution_count": 70,
   "metadata": {
    "collapsed": false
   },
   "outputs": [
    {
     "name": "stdout",
     "output_type": "stream",
     "text": []
    }
   ],
   "source": [
    "cat > out.1 <<EOF\n",
    "Date, Year, CustomerID, Value\n",
    "2013-01-12, 2013, 1, 100\n",
    "2014-05-12, 2014, NA, 100\n",
    "2013-02-25, 2013, 2, 200\n",
    "2013-04-04, 2013, 1, 100\n",
    "2013-06-21, 2013, 2, 200\n",
    "2014-05-12, 2014, 1, 100\n",
    "2014-05-12, 2014, NA, 200\n",
    "2013-02-28, 2013, 1, 100\n",
    "2013-08-02, 2013, NA, 100\n",
    "EOF"
   ]
  },
  {
   "cell_type": "code",
   "execution_count": null,
   "metadata": {
    "collapsed": true
   },
   "outputs": [],
   "source": []
  },
  {
   "cell_type": "markdown",
   "metadata": {},
   "source": [
    "---"
   ]
  },
  {
   "cell_type": "markdown",
   "metadata": {},
   "source": [
    "En el archivo:"
   ]
  },
  {
   "cell_type": "code",
   "execution_count": 71,
   "metadata": {
    "collapsed": false
   },
   "outputs": [
    {
     "name": "stdout",
     "output_type": "stream",
     "text": []
    }
   ],
   "source": [
    "cat > out.1 <<EOF\n",
    "FieldA, FieldD, FieldE\n",
    "   2, X, 2X\n",
    "   2, Y, 2Y\n",
    "   3, Y, 3Y\n",
    "   3, X, 3X\n",
    "   4, Z, 4Z \n",
    "EOF"
   ]
  },
  {
   "cell_type": "markdown",
   "metadata": {},
   "source": [
    "se desean cambiar las `X` por `x`, las `Y` por `y`, y así sucesivamente. `sed` permite realizar sustituciones mediante el comando `s`:"
   ]
  },
  {
   "cell_type": "code",
   "execution_count": 72,
   "metadata": {
    "collapsed": false
   },
   "outputs": [
    {
     "name": "stdout",
     "output_type": "stream",
     "text": [
      "FieldA, FieldD, FieldE\r\n",
      "   2, x, 2X\r\n",
      "   2, Y, 2Y\r\n",
      "   3, Y, 3Y\r\n",
      "   3, x, 3X\r\n",
      "   4, Z, 4Z \r\n"
     ]
    }
   ],
   "source": [
    "sed 's/X/x/' out.1"
   ]
  },
  {
   "cell_type": "markdown",
   "metadata": {},
   "source": [
    "Note que solamente se sustituyeron las primeras ocurrencias de cada línea. Si se quieren cambiar todas las ocurrencias en cada línea se usa `g` para indicar sustitución global:"
   ]
  },
  {
   "cell_type": "code",
   "execution_count": 73,
   "metadata": {
    "collapsed": false
   },
   "outputs": [
    {
     "name": "stdout",
     "output_type": "stream",
     "text": [
      "FieldA, FieldD, FieldE\r\n",
      "   2, x, 2x\r\n",
      "   2, Y, 2Y\r\n",
      "   3, Y, 3Y\r\n",
      "   3, x, 3x\r\n",
      "   4, Z, 4Z \r\n"
     ]
    }
   ],
   "source": [
    "sed 's/X/x/g' out.1"
   ]
  },
  {
   "cell_type": "markdown",
   "metadata": {},
   "source": [
    "En el ejemplo anterior, se debería escribir un comando `sed` por cada transformación; pero `sed` admite múltiples patrones usando la opción `-e` como se muestra a continuación. "
   ]
  },
  {
   "cell_type": "code",
   "execution_count": 74,
   "metadata": {
    "collapsed": false
   },
   "outputs": [
    {
     "name": "stdout",
     "output_type": "stream",
     "text": [
      "FieldA, FieldD, FieldE\r\n",
      "   2, x, 2x\r\n",
      "   2, y, 2y\r\n",
      "   3, y, 3y\r\n",
      "   3, x, 3x\r\n",
      "   4, z, 4z \r\n"
     ]
    }
   ],
   "source": [
    "sed -e 's/X/x/g' -e 's/Y/y/g' -e 's/Z/z/g' out.1"
   ]
  },
  {
   "cell_type": "markdown",
   "metadata": {},
   "source": [
    "Sea el siguiente archivo:"
   ]
  },
  {
   "cell_type": "code",
   "execution_count": 75,
   "metadata": {
    "collapsed": false
   },
   "outputs": [
    {
     "name": "stdout",
     "output_type": "stream",
     "text": []
    }
   ],
   "source": [
    "cat > out.1 <<EOF\n",
    "1980-JAN-1+1:0:1.134\n",
    "1980-JAN-5+1:0:1.12\n",
    "1980-JAN-13+10:12:42.33\n",
    "EOF"
   ]
  },
  {
   "cell_type": "markdown",
   "metadata": {},
   "source": [
    "Se desea formatear la fecha y la hora, es decir, la primera línea:\n",
    "\n",
    "```\n",
    "1980-JAN-1+1:0:1.134\n",
    "```\n",
    "\n",
    "debe cambiarse por:\n",
    "\n",
    "```\n",
    "1980-JAN-01 01:00:01\n",
    "```\n"
   ]
  },
  {
   "cell_type": "markdown",
   "metadata": {},
   "source": [
    "El primer paso consiste en agregar el cero a los números de día con un solo dígito."
   ]
  },
  {
   "cell_type": "code",
   "execution_count": 76,
   "metadata": {
    "collapsed": false
   },
   "outputs": [
    {
     "name": "stdout",
     "output_type": "stream",
     "text": [
      "1980-JAN-01+1:0:1.134\r\n",
      "1980-JAN-05+1:0:1.12\r\n",
      "1980-JAN-13+10:12:42.33\r\n"
     ]
    }
   ],
   "source": [
    "sed 's/-\\([0-9]\\)+/-0\\1+/' out.1 > out.2\n",
    "cat out.2"
   ]
  },
  {
   "cell_type": "markdown",
   "metadata": {},
   "source": [
    "La explicación del comando anterior es la siguiente. El patrón de entrada está conformado por los siguientes elementos:\n",
    "* El caracter '-'.\n",
    "* Un dígito entre 0 y 9 (patrón `[0-9]`). Las secuencias `\\(` y `\\)` especifican que el dígito reconocido debe recordarse. Pueden existir varias cadenas a recordar; la primera cadena es `\\1`, la segunda cadena es `\\2` y así sucesivamente.\n",
    "* El caracter `+`.\n",
    "\n",
    "El patrón de salida indica que:\n",
    "* Se imprime el caracter `-`.\n",
    "* Luego el caracter `0`.\n",
    "* A continuación el dígito reconocido `\\1`.\n"
   ]
  },
  {
   "cell_type": "markdown",
   "metadata": {},
   "source": [
    "Se reemplaza el `+` por un espacio en blanco."
   ]
  },
  {
   "cell_type": "code",
   "execution_count": 77,
   "metadata": {
    "collapsed": false
   },
   "outputs": [
    {
     "name": "stdout",
     "output_type": "stream",
     "text": [
      "1980-JAN-01 1:0:1.134\r\n",
      "1980-JAN-05 1:0:1.12\r\n",
      "1980-JAN-13 10:12:42.33\r\n"
     ]
    }
   ],
   "source": [
    "sed 's/+/ /' out.2 > out.3\n",
    "cat out.3"
   ]
  },
  {
   "cell_type": "markdown",
   "metadata": {},
   "source": [
    "Se agrega el `0` a las horas."
   ]
  },
  {
   "cell_type": "code",
   "execution_count": 78,
   "metadata": {
    "collapsed": false
   },
   "outputs": [
    {
     "name": "stdout",
     "output_type": "stream",
     "text": [
      "1980-JAN-01 01:0:1.134\r\n",
      "1980-JAN-05 01:0:1.12\r\n",
      "1980-JAN-13 10:12:42.33\r\n"
     ]
    }
   ],
   "source": [
    "sed 's/ \\([0-9]\\):/ 0\\1:/' out.3 > out.4\n",
    "cat out.4"
   ]
  },
  {
   "cell_type": "markdown",
   "metadata": {},
   "source": [
    "Se agrega el `0` a los minutos."
   ]
  },
  {
   "cell_type": "code",
   "execution_count": 79,
   "metadata": {
    "collapsed": false
   },
   "outputs": [
    {
     "name": "stdout",
     "output_type": "stream",
     "text": [
      "1980-JAN-01 01:00:1.134\r\n",
      "1980-JAN-05 01:00:1.12\r\n",
      "1980-JAN-13 10:12:42.33\r\n"
     ]
    }
   ],
   "source": [
    "sed 's/:\\([0-9]\\):/:0\\1:/' out.4 > out.5\n",
    "cat out.5"
   ]
  },
  {
   "cell_type": "markdown",
   "metadata": {},
   "source": [
    "Se agrega el `0` a los segundos."
   ]
  },
  {
   "cell_type": "code",
   "execution_count": 80,
   "metadata": {
    "collapsed": false
   },
   "outputs": [
    {
     "name": "stdout",
     "output_type": "stream",
     "text": [
      "1980-JAN-01 01:00:01.134\r\n",
      "1980-JAN-05 01:00:01.12\r\n",
      "1980-JAN-13 10:12:42.33\r\n"
     ]
    }
   ],
   "source": [
    "sed 's/:\\([0-9]\\)\\./:0\\1./' out.5 > out.6\n",
    "cat out.6"
   ]
  },
  {
   "cell_type": "markdown",
   "metadata": {},
   "source": [
    "Se elimina la parte decimal de los segundos"
   ]
  },
  {
   "cell_type": "code",
   "execution_count": 81,
   "metadata": {
    "collapsed": false
   },
   "outputs": [
    {
     "name": "stdout",
     "output_type": "stream",
     "text": [
      "1980-JAN-01 01:00:01\r\n",
      "1980-JAN-05 01:00:01\r\n",
      "1980-JAN-13 10:12:42\r\n"
     ]
    }
   ],
   "source": [
    "sed 's/\\.[0-9][0-9]*//' out.6 > out.7\n",
    "cat out.7"
   ]
  },
  {
   "cell_type": "markdown",
   "metadata": {},
   "source": [
    "La notación `\\.[0-9][0-9]*` indica que el patrón es un punto (`\\.`) seguido de un dígito (`[0-9]`), seguido de cero, uno o más dígitos (`[0-9]*`)."
   ]
  },
  {
   "cell_type": "code",
   "execution_count": 82,
   "metadata": {
    "collapsed": false
   },
   "outputs": [
    {
     "name": "stdout",
     "output_type": "stream",
     "text": []
    }
   ],
   "source": [
    "# se borran los archivos temporales generados del directorio actual\n",
    "rm out*"
   ]
  },
  {
   "cell_type": "markdown",
   "metadata": {},
   "source": [
    "En este úlitmo ejemplo de `sed` se usará el siguiente archivo:"
   ]
  },
  {
   "cell_type": "code",
   "execution_count": 83,
   "metadata": {
    "collapsed": false
   },
   "outputs": [
    {
     "name": "stdout",
     "output_type": "stream",
     "text": []
    }
   ],
   "source": [
    "cat > out.1 <<EOF\n",
    "Date, Year, CustomerID, Value\n",
    "2013-01-12, 2013, 1, 100\n",
    "2014-05-12, 2014, 1, 100\n",
    "2013-02-25, 2013, 2, 200\n",
    "2013-04-04, 2013, 1, 100\n",
    "2013-06-21, 2013, 2, 200\n",
    "2014-05-12, 2014, 12, 100\n",
    "2014-05-12, 2014, 2, 200\n",
    "2013-02-28, 2013, 11, 100\n",
    "2013-08-02, 2013, 1, 100\n",
    "EOF"
   ]
  },
  {
   "cell_type": "markdown",
   "metadata": {},
   "source": [
    "Se desea agregar un nuevo campo llamado `Year-CoustomerID` que contiene una clave compuesta conformada por la concatenación de estos dos campos; por ejemplo, el valor para el primer registro sería `2013-1`. El siguiente comando hace el cambio del reglón dos en adelante:"
   ]
  },
  {
   "cell_type": "code",
   "execution_count": 84,
   "metadata": {
    "collapsed": false
   },
   "outputs": [
    {
     "name": "stdout",
     "output_type": "stream",
     "text": [
      "Date, Year, CustomerID, Value\r\n",
      "2013-01-12, 2013, 1, 2013-1, 100\r\n",
      "2014-05-12, 2014, 1, 2014-1, 100\r\n",
      "2013-02-25, 2013, 2, 2013-2, 200\r\n",
      "2013-04-04, 2013, 1, 2013-1, 100\r\n",
      "2013-06-21, 2013, 2, 2013-2, 200\r\n",
      "2014-05-12, 2014, 12, 2014-12, 100\r\n",
      "2014-05-12, 2014, 2, 2014-2, 200\r\n",
      "2013-02-28, 2013, 11, 2013-11, 100\r\n",
      "2013-08-02, 2013, 1, 2013-1, 100\r\n"
     ]
    }
   ],
   "source": [
    "sed 's/ \\([0-9][0-9][0-9][0-9]\\), \\([0-9]*\\)/ \\1, \\2, \\1-\\2/' out.1"
   ]
  },
  {
   "cell_type": "markdown",
   "metadata": {},
   "source": [
    "Para realizar el cambio en la primera línea (el encabezado) se usaría el siguiente comando:"
   ]
  },
  {
   "cell_type": "code",
   "execution_count": 85,
   "metadata": {
    "collapsed": false,
    "scrolled": true
   },
   "outputs": [
    {
     "name": "stdout",
     "output_type": "stream",
     "text": [
      "Date, Year, CustomerID, Year-CustomerID, Value\r\n",
      "2013-01-12, 2013, 1, 100\r\n",
      "2014-05-12, 2014, 1, 100\r\n",
      "2013-02-25, 2013, 2, 200\r\n",
      "2013-04-04, 2013, 1, 100\r\n",
      "2013-06-21, 2013, 2, 200\r\n",
      "2014-05-12, 2014, 12, 100\r\n",
      "2014-05-12, 2014, 2, 200\r\n",
      "2013-02-28, 2013, 11, 100\r\n",
      "2013-08-02, 2013, 1, 100\r\n"
     ]
    }
   ],
   "source": [
    "sed 's/\\([a-zA-Z]*\\), \\([a-zA-Z]*\\), \\([a-zA-Z]*\\), \\([a-zA-Z]*\\)/\\1, \\2, \\3, \\2-\\3, \\4/' out.1"
   ]
  },
  {
   "cell_type": "markdown",
   "metadata": {},
   "source": [
    "---"
   ]
  },
  {
   "cell_type": "markdown",
   "metadata": {},
   "source": [
    "**Ejercicio.--** Convierta el formato de las fechas de `D/M/Y` a `YYYY-MM-DD` en los archivos `order2000` ... `order2015`."
   ]
  },
  {
   "cell_type": "code",
   "execution_count": null,
   "metadata": {
    "collapsed": true
   },
   "outputs": [],
   "source": []
  },
  {
   "cell_type": "markdown",
   "metadata": {},
   "source": [
    "**Ejercicio.--** Agregue dos nuevos campos al archivo `order`; el primer campo corresponde al mes y el segundo al año. "
   ]
  },
  {
   "cell_type": "code",
   "execution_count": null,
   "metadata": {
    "collapsed": true
   },
   "outputs": [],
   "source": []
  },
  {
   "cell_type": "markdown",
   "metadata": {},
   "source": [
    "## Extracción de campos con `cut`"
   ]
  },
  {
   "cell_type": "markdown",
   "metadata": {},
   "source": [
    "[Contenido](#Contenido)"
   ]
  },
  {
   "cell_type": "markdown",
   "metadata": {},
   "source": [
    "El comando `cut` permite extraer porciones de texto de un archivo. En la última línea del código presentado a continuación, se extraen las posiciones 3, 4, y 5 de cada línea de texto de un archivo, indicándolas como un rango (`3-5`). "
   ]
  },
  {
   "cell_type": "code",
   "execution_count": 87,
   "metadata": {
    "collapsed": false,
    "scrolled": true
   },
   "outputs": [
    {
     "name": "stdout",
     "output_type": "stream",
     "text": [
      "345\r\n",
      "cde\r\n",
      "lmn\r\n"
     ]
    }
   ],
   "source": [
    "echo \"123456790\n",
    "abcdefghi\n",
    "jklmnopqr\" > out.1\n",
    "cut -c3-5 out.1  "
   ]
  },
  {
   "cell_type": "markdown",
   "metadata": {},
   "source": [
    "Las columnas también pueden indicarse por posición:"
   ]
  },
  {
   "cell_type": "code",
   "execution_count": 88,
   "metadata": {
    "collapsed": false,
    "scrolled": false
   },
   "outputs": [
    {
     "name": "stdout",
     "output_type": "stream",
     "text": [
      "345\r\n",
      "cde\r\n",
      "lmn\r\n"
     ]
    }
   ],
   "source": [
    "cut -c3,4,5 out.1 "
   ]
  },
  {
   "cell_type": "code",
   "execution_count": 89,
   "metadata": {
    "collapsed": false,
    "scrolled": true
   },
   "outputs": [
    {
     "name": "stdout",
     "output_type": "stream",
     "text": [
      "2567\r\n",
      "befg\r\n",
      "knop\r\n"
     ]
    }
   ],
   "source": [
    "# caracteres en las posiciones 2 y 5 a 7 de cada línea de un archivo.\n",
    "cut -c2,5-7 out.1 "
   ]
  },
  {
   "cell_type": "markdown",
   "metadata": {},
   "source": [
    "`cut` también permite manipular archivos delimitados. "
   ]
  },
  {
   "cell_type": "code",
   "execution_count": 90,
   "metadata": {
    "collapsed": false,
    "scrolled": true
   },
   "outputs": [
    {
     "name": "stdout",
     "output_type": "stream",
     "text": []
    }
   ],
   "source": [
    "cat > out.1 <<EOF\n",
    "FieldA, FieldD, FieldE\n",
    "   2, X, 2X\n",
    "   3, Y, 3Y\n",
    "   4, Z, 4Z \n",
    "EOF"
   ]
  },
  {
   "cell_type": "markdown",
   "metadata": {},
   "source": [
    "En el siguiente ejemplo se extrae la segunda columna (`-f2`); se indica que el archivo está delimitado por comas (`-d,`)."
   ]
  },
  {
   "cell_type": "code",
   "execution_count": 91,
   "metadata": {
    "collapsed": false,
    "scrolled": true
   },
   "outputs": [
    {
     "name": "stdout",
     "output_type": "stream",
     "text": [
      " FieldD\r\n",
      " X\r\n",
      " Y\r\n",
      " Z\r\n"
     ]
    }
   ],
   "source": [
    "cut -d, -f2 out.1   "
   ]
  },
  {
   "cell_type": "code",
   "execution_count": 93,
   "metadata": {
    "collapsed": false,
    "scrolled": true
   },
   "outputs": [
    {
     "name": "stdout",
     "output_type": "stream",
     "text": [
      "FieldA, FieldE\r\n",
      "   2, 2X\r\n",
      "   3, 3Y\r\n",
      "   4, 4Z \r\n"
     ]
    }
   ],
   "source": [
    "# este código extrae las columnas 1 y 3\n",
    "cut -d, -f1,3 out.1  "
   ]
  },
  {
   "cell_type": "markdown",
   "metadata": {},
   "source": [
    "---"
   ]
  },
  {
   "cell_type": "markdown",
   "metadata": {},
   "source": [
    "**Ejercicio.--** Calcule el número de valores diferentes en la columna `Supplier` del archivo `product`."
   ]
  },
  {
   "cell_type": "code",
   "execution_count": null,
   "metadata": {
    "collapsed": true
   },
   "outputs": [],
   "source": []
  },
  {
   "cell_type": "markdown",
   "metadata": {},
   "source": [
    "---"
   ]
  },
  {
   "cell_type": "markdown",
   "metadata": {},
   "source": [
    "Se puede usar cualquier caracter como delimitador. En el siguiente ejemplo se desean extraer los caracteres entre `'['` y `']'`."
   ]
  },
  {
   "cell_type": "code",
   "execution_count": 94,
   "metadata": {
    "collapsed": false,
    "scrolled": true
   },
   "outputs": [
    {
     "name": "stdout",
     "output_type": "stream",
     "text": [
      "--> [1] <--\r\n",
      "--> [2] <--\r\n",
      "--> [3] <--\r\n",
      "------> [1] <------\r\n",
      "------> [2] <------\r\n",
      "------> [3] <------\r\n"
     ]
    }
   ],
   "source": [
    "seq -f\"--> [%g] <--\" 3 > out.1\n",
    "seq -f\"------> [%g] <------\" 3 >> out.1\n",
    "cat out.1"
   ]
  },
  {
   "cell_type": "code",
   "execution_count": 95,
   "metadata": {
    "collapsed": false,
    "scrolled": true
   },
   "outputs": [
    {
     "name": "stdout",
     "output_type": "stream",
     "text": [
      "1] <--\r\n",
      "2] <--\r\n",
      "3] <--\r\n",
      "1] <------\r\n",
      "2] <------\r\n",
      "3] <------\r\n"
     ]
    }
   ],
   "source": [
    "# extrae la porción de texto después de '[' \n",
    "cut -d'[' -f2 out.1 "
   ]
  },
  {
   "cell_type": "markdown",
   "metadata": {},
   "source": [
    "Extrae la porción de texto antes de ']' "
   ]
  },
  {
   "cell_type": "code",
   "execution_count": 96,
   "metadata": {
    "collapsed": false,
    "scrolled": true
   },
   "outputs": [
    {
     "name": "stdout",
     "output_type": "stream",
     "text": [
      "--> [1\r\n",
      "--> [2\r\n",
      "--> [3\r\n",
      "------> [1\r\n",
      "------> [2\r\n",
      "------> [3\r\n"
     ]
    }
   ],
   "source": [
    "cut -d']' -f1 out.1  "
   ]
  },
  {
   "cell_type": "markdown",
   "metadata": {},
   "source": [
    "Se combinan los dos comandos anteriores"
   ]
  },
  {
   "cell_type": "code",
   "execution_count": 97,
   "metadata": {
    "collapsed": false,
    "scrolled": true
   },
   "outputs": [
    {
     "name": "stdout",
     "output_type": "stream",
     "text": [
      "1\r\n",
      "2\r\n",
      "3\r\n",
      "1\r\n",
      "2\r\n",
      "3\r\n"
     ]
    }
   ],
   "source": [
    "cut -d'[' -f2 out.1 | cut -d']' -f1 "
   ]
  },
  {
   "cell_type": "markdown",
   "metadata": {},
   "source": [
    "A continuación se extrae la segunda palabra de cada línea."
   ]
  },
  {
   "cell_type": "code",
   "execution_count": 98,
   "metadata": {
    "collapsed": false,
    "scrolled": true
   },
   "outputs": [
    {
     "name": "stdout",
     "output_type": "stream",
     "text": [
      "Bash is a Unix shell and command language \r\n",
      "written by Brian Fox for the \r\n",
      "GNU Project as a free software \r\n",
      "replacement for the Bourne shell.\r\n"
     ]
    }
   ],
   "source": [
    "echo \"Bash is a Unix shell and command language \n",
    "written by Brian Fox for the \n",
    "GNU Project as a free software \n",
    "replacement for the Bourne shell.\" > out.1\n",
    "cat out.1"
   ]
  },
  {
   "cell_type": "code",
   "execution_count": 99,
   "metadata": {
    "collapsed": false,
    "scrolled": true
   },
   "outputs": [
    {
     "name": "stdout",
     "output_type": "stream",
     "text": [
      "is\r\n",
      "by\r\n",
      "Project\r\n",
      "for\r\n"
     ]
    }
   ],
   "source": [
    "# el delimitador es el espacio en blanco\n",
    "cut -d' ' -f2 out.1 "
   ]
  },
  {
   "cell_type": "markdown",
   "metadata": {},
   "source": [
    "---"
   ]
  },
  {
   "cell_type": "markdown",
   "metadata": {},
   "source": [
    "**Ejercicio.--** Obtenga un listado ordenado de las ciudades en el archivo `customer`."
   ]
  },
  {
   "cell_type": "code",
   "execution_count": null,
   "metadata": {
    "collapsed": true
   },
   "outputs": [],
   "source": []
  },
  {
   "cell_type": "markdown",
   "metadata": {},
   "source": [
    "**Ejericicio.--** Obtenga el apellido para todos los empleados en el archivo `employee`."
   ]
  },
  {
   "cell_type": "code",
   "execution_count": null,
   "metadata": {
    "collapsed": true
   },
   "outputs": [],
   "source": []
  },
  {
   "cell_type": "markdown",
   "metadata": {},
   "source": [
    "---"
   ]
  },
  {
   "cell_type": "markdown",
   "metadata": {},
   "source": [
    "## Borrado de columnas con `colrm`"
   ]
  },
  {
   "cell_type": "markdown",
   "metadata": {},
   "source": [
    "[Contenido](#Contenido)"
   ]
  },
  {
   "cell_type": "markdown",
   "metadata": {},
   "source": [
    "(No esta disponible en Try Jupyter!) \n",
    "\n",
    "Este comando remueve los caracteres comprendidos entre las columnas especificadas."
   ]
  },
  {
   "cell_type": "code",
   "execution_count": 100,
   "metadata": {
    "collapsed": false
   },
   "outputs": [
    {
     "name": "stdout",
     "output_type": "stream",
     "text": [
      "126790\r\n",
      "abfghi\r\n",
      "jkopqr\r\n"
     ]
    }
   ],
   "source": [
    "echo \"123456790\n",
    "abcdefghi\n",
    "jklmnopqr\" > out.1\n",
    "colrm 3 5 < out.1  "
   ]
  },
  {
   "cell_type": "markdown",
   "metadata": {},
   "source": [
    "Si no se especifica la columna final, `colrm` borra hasta el final de la línea."
   ]
  },
  {
   "cell_type": "code",
   "execution_count": 101,
   "metadata": {
    "collapsed": false
   },
   "outputs": [
    {
     "name": "stdout",
     "output_type": "stream",
     "text": [
      "12\r\n",
      "ab\r\n",
      "jk\r\n"
     ]
    }
   ],
   "source": [
    "colrm 3 < out.1"
   ]
  },
  {
   "cell_type": "markdown",
   "metadata": {},
   "source": [
    "## Unión de archivos con `join`"
   ]
  },
  {
   "cell_type": "markdown",
   "metadata": {},
   "source": [
    "[Contenido](#Contenido)"
   ]
  },
  {
   "cell_type": "markdown",
   "metadata": {},
   "source": [
    "Un problema típico en transformación de datos es tener que combinar dos archivos usando un campo clave. Tal como ya se ha ejemplificado en este documento, en muchos casos los archivos de texto son equivalentes a las tablas en los sistemas de bases de datos relacionales. El problema en cuestión es el siguiente: existe un archivo `out.1`:"
   ]
  },
  {
   "cell_type": "code",
   "execution_count": 3,
   "metadata": {
    "collapsed": false
   },
   "outputs": [
    {
     "name": "stdout",
     "output_type": "stream",
     "text": []
    }
   ],
   "source": [
    "cat > out.1 <<EOF\n",
    "key, F1, F2\n",
    "  1, 11, 12\n",
    "  2, 21, 22\n",
    "  4, 41, 42\n",
    "EOF"
   ]
  },
  {
   "cell_type": "markdown",
   "metadata": {},
   "source": [
    "y un archivo `out.2`:"
   ]
  },
  {
   "cell_type": "code",
   "execution_count": 4,
   "metadata": {
    "collapsed": false
   },
   "outputs": [
    {
     "name": "stdout",
     "output_type": "stream",
     "text": []
    }
   ],
   "source": [
    "cat > out.2 <<EOF\n",
    "key, F3, F4\n",
    "  1, 13, 14\n",
    "  2, 23, 24\n",
    "  3, 33, 34 \n",
    "EOF"
   ]
  },
  {
   "cell_type": "markdown",
   "metadata": {},
   "source": [
    "La primera columna es la clave; los valores de los campos corresponden a la posición del elemento, es decir, el valor `13` corresponde al registro `1` y al campo `3`."
   ]
  },
  {
   "cell_type": "markdown",
   "metadata": {},
   "source": [
    "El comando `join` permite unir las líneas de ambos archivos usando el campo designado como clave. `join` no agrega el último registro de `out.1`, ya que no existe este registro en el archivo `out.2`"
   ]
  },
  {
   "cell_type": "code",
   "execution_count": 5,
   "metadata": {
    "collapsed": false,
    "scrolled": true
   },
   "outputs": [
    {
     "name": "stdout",
     "output_type": "stream",
     "text": [
      "key, F1, F2, F3, F4\r\n",
      "  1, 11, 12, 13, 14\r\n",
      "  2, 21, 22, 23, 24\r\n"
     ]
    }
   ],
   "source": [
    "# agrega out.2 a out.1 usando como clave el primer campo (por defecto)\n",
    "join -t, out.1 out.2 "
   ]
  },
  {
   "cell_type": "markdown",
   "metadata": {},
   "source": [
    "Se puede especificar el campo de unión con las opciones `-1` para indicar el campo clave del primer archivo y `-2` para indicar el campo clave del segundo archivo."
   ]
  },
  {
   "cell_type": "code",
   "execution_count": 6,
   "metadata": {
    "collapsed": false,
    "scrolled": false
   },
   "outputs": [
    {
     "name": "stdout",
     "output_type": "stream",
     "text": [
      "key, F3, F4, F1, F2\r\n",
      "  1, 13, 14, 11, 12\r\n",
      "  2, 23, 24, 21, 22\r\n"
     ]
    }
   ],
   "source": [
    "join -1 1 -2 1 -t, out.2 out.1 "
   ]
  },
  {
   "cell_type": "markdown",
   "metadata": {},
   "source": [
    "Adicionalmente, se pueden indicar los campos de salida con la opción `-o`. En el siguiente ejemplo, `1.2` representa el campo 2 del archivo 1."
   ]
  },
  {
   "cell_type": "code",
   "execution_count": 7,
   "metadata": {
    "collapsed": false,
    "scrolled": true
   },
   "outputs": [
    {
     "name": "stdout",
     "output_type": "stream",
     "text": [
      " F1, F4\r\n",
      " 11, 14\r\n",
      " 21, 24\r\n"
     ]
    }
   ],
   "source": [
    "join -t, -o1.2,2.3 out.1 out.2 "
   ]
  },
  {
   "cell_type": "code",
   "execution_count": 8,
   "metadata": {
    "collapsed": false,
    "scrolled": true
   },
   "outputs": [
    {
     "name": "stdout",
     "output_type": "stream",
     "text": [
      "key, F1, F4\r\n",
      "  1, 11, 14\r\n",
      "  2, 21, 24\r\n"
     ]
    }
   ],
   "source": [
    "join -t, -o\"0, 1.2, 2.3\" out.1 out.2 "
   ]
  },
  {
   "cell_type": "markdown",
   "metadata": {},
   "source": [
    "La opción `-v` se usa para que `join` imprima los registros que solo aparecen en uno solo de los archivos."
   ]
  },
  {
   "cell_type": "markdown",
   "metadata": {},
   "source": [
    "El siguiente comando imprime los registros de `out.1` cuya clave no aparece en `out.2`:"
   ]
  },
  {
   "cell_type": "code",
   "execution_count": 12,
   "metadata": {
    "collapsed": false,
    "scrolled": true
   },
   "outputs": [
    {
     "name": "stdout",
     "output_type": "stream",
     "text": [
      "  4, 41, 42\r\n"
     ]
    }
   ],
   "source": [
    "join -t, -v 1 out.1 out.2"
   ]
  },
  {
   "cell_type": "markdown",
   "metadata": {},
   "source": [
    "De forma equivalente, los registros de `out.2` que no están en `out.1` se obtienen con"
   ]
  },
  {
   "cell_type": "code",
   "execution_count": 13,
   "metadata": {
    "collapsed": false
   },
   "outputs": [
    {
     "name": "stdout",
     "output_type": "stream",
     "text": [
      "  3, 33, 34 \r\n"
     ]
    }
   ],
   "source": [
    "join -t, -v 2 out.1 out.2"
   ]
  },
  {
   "cell_type": "markdown",
   "metadata": {},
   "source": [
    "Los comandos anteriores se pueden combinar en uno solo:"
   ]
  },
  {
   "cell_type": "code",
   "execution_count": 14,
   "metadata": {
    "collapsed": false
   },
   "outputs": [
    {
     "name": "stdout",
     "output_type": "stream",
     "text": [
      "  3, 33, 34 \r\n",
      "  4, 41, 42\r\n"
     ]
    }
   ],
   "source": [
    "join -t, -v 1 -v 2 out.1 out.2"
   ]
  },
  {
   "cell_type": "markdown",
   "metadata": {},
   "source": [
    "Para que en la combinación se incluyan los registros sin clave en alguno de los archivo se usa la opción `-a`. Por ejemplo,"
   ]
  },
  {
   "cell_type": "code",
   "execution_count": 15,
   "metadata": {
    "collapsed": false
   },
   "outputs": [
    {
     "name": "stdout",
     "output_type": "stream",
     "text": [
      "key, F1, F2, F3, F4\r\n",
      "  1, 11, 12, 13, 14\r\n",
      "  2, 21, 22, 23, 24\r\n",
      "  4, 41, 42\r\n"
     ]
    }
   ],
   "source": [
    "join -a 1 -t, out.1 out.2 "
   ]
  },
  {
   "cell_type": "code",
   "execution_count": 16,
   "metadata": {
    "collapsed": false
   },
   "outputs": [
    {
     "name": "stdout",
     "output_type": "stream",
     "text": [
      "key, F1, F2, F3, F4\r\n",
      "  1, 11, 12, 13, 14\r\n",
      "  2, 21, 22, 23, 24\r\n",
      "  3, 33, 34 \r\n"
     ]
    }
   ],
   "source": [
    "join -a 2 -t, out.1 out.2 "
   ]
  },
  {
   "cell_type": "raw",
   "metadata": {},
   "source": [
    "La opción `-e` se usa para indicar la cadena de texto que se agrega a los campos de los registros para los cuales no hay valores."
   ]
  },
  {
   "cell_type": "code",
   "execution_count": 26,
   "metadata": {
    "collapsed": false
   },
   "outputs": [
    {
     "name": "stdout",
     "output_type": "stream",
     "text": [
      "key, F1, F2, F3, F4\r\n",
      "  1, 11, 12, 13, 14\r\n",
      "  2, 21, 22, 23, 24\r\n",
      "  3, 33, 34 \r\n",
      "  4, 41, 42\r\n"
     ]
    }
   ],
   "source": [
    "join -a 1 -a 2 -e NA -t,   out.1 out.2 "
   ]
  },
  {
   "cell_type": "markdown",
   "metadata": {},
   "source": [
    "---"
   ]
  },
  {
   "cell_type": "markdown",
   "metadata": {},
   "source": [
    "**Ejercicio.--** Agregue los campos `EmployeeName` del archivo `employee` y  `Name` de `customer` a los archivos `order2010`, ...,  `order2015`."
   ]
  },
  {
   "cell_type": "code",
   "execution_count": null,
   "metadata": {
    "collapsed": true
   },
   "outputs": [],
   "source": []
  },
  {
   "cell_type": "markdown",
   "metadata": {},
   "source": [
    "---"
   ]
  },
  {
   "cell_type": "markdown",
   "metadata": {},
   "source": [
    "## Pegado de archivos con `paste`"
   ]
  },
  {
   "cell_type": "markdown",
   "metadata": {},
   "source": [
    "[Contenido](#Contenido)"
   ]
  },
  {
   "cell_type": "markdown",
   "metadata": {},
   "source": [
    "El comando `paste` permite pegar un archivo con otro, uniendo la primera linea de ambos archivos, luego la segunda y así sucesivamente."
   ]
  },
  {
   "cell_type": "code",
   "execution_count": 7,
   "metadata": {
    "collapsed": false,
    "scrolled": true
   },
   "outputs": [
    {
     "name": "stdout",
     "output_type": "stream",
     "text": [
      "linea 1\r\n",
      "linea 2\r\n",
      "linea 3\r\n",
      "linea 4\r\n",
      "linea 5\r\n"
     ]
    }
   ],
   "source": [
    "seq -f'linea %g' 5 > out.1; cat out.1"
   ]
  },
  {
   "cell_type": "code",
   "execution_count": 8,
   "metadata": {
    "collapsed": false,
    "scrolled": true
   },
   "outputs": [
    {
     "name": "stdout",
     "output_type": "stream",
     "text": [
      "linea 6\r\n",
      "linea 7\r\n",
      "linea 8\r\n",
      "linea 9\r\n",
      "linea 10\r\n"
     ]
    }
   ],
   "source": [
    "seq -f'linea %g' 6 1 10 > out.2; cat out.2"
   ]
  },
  {
   "cell_type": "code",
   "execution_count": 110,
   "metadata": {
    "collapsed": false,
    "scrolled": true
   },
   "outputs": [
    {
     "name": "stdout",
     "output_type": "stream",
     "text": [
      "linea 1-linea 6\r\n",
      "linea 2-linea 7\r\n",
      "linea 3-linea 8\r\n",
      "linea 4-linea 9\r\n",
      "linea 5-linea 10\r\n"
     ]
    }
   ],
   "source": [
    "paste -d'-' out.1 out.2"
   ]
  },
  {
   "cell_type": "markdown",
   "metadata": {},
   "source": [
    "---"
   ]
  },
  {
   "cell_type": "markdown",
   "metadata": {},
   "source": [
    "# Variables y arrays"
   ]
  },
  {
   "cell_type": "markdown",
   "metadata": {},
   "source": [
    "[Contenido](#Contenido)"
   ]
  },
  {
   "cell_type": "markdown",
   "metadata": {},
   "source": [
    "Las variables en Bash funcionan de forma análoga a las variables en otros lenguajes de programación.  "
   ]
  },
  {
   "cell_type": "markdown",
   "metadata": {},
   "source": [
    "Las variables en Bash no necesitan se declaradas (tal como en el lenguaje C) para ser usadas. Para hacer la asignación se utiliza el símbolo `=`; note que no puede haber espacio alrededor del `=`. En la segunda línea de código es necesario preceder el nombre de la variable por `$` para indicar que var1 es un nombre de variable y no una cadena de texto."
   ]
  },
  {
   "cell_type": "code",
   "execution_count": 111,
   "metadata": {
    "collapsed": false,
    "scrolled": true
   },
   "outputs": [
    {
     "name": "stdout",
     "output_type": "stream",
     "text": [
      "hola mundo\r\n"
     ]
    }
   ],
   "source": [
    "var1='hola mundo'\n",
    "echo $var1 "
   ]
  },
  {
   "cell_type": "code",
   "execution_count": 112,
   "metadata": {
    "collapsed": false,
    "scrolled": true
   },
   "outputs": [
    {
     "name": "stdout",
     "output_type": "stream",
     "text": [
      "var1\r\n"
     ]
    }
   ],
   "source": [
    "echo var1"
   ]
  },
  {
   "cell_type": "markdown",
   "metadata": {},
   "source": [
    "A una variable se le puede asignar el resultado de un comando:"
   ]
  },
  {
   "cell_type": "code",
   "execution_count": 113,
   "metadata": {
    "collapsed": false,
    "scrolled": true
   },
   "outputs": [
    {
     "name": "stdout",
     "output_type": "stream",
     "text": [
      "hola mundo\r\n"
     ]
    }
   ],
   "source": [
    "x=$(echo hola mundo)\n",
    "echo $x"
   ]
  },
  {
   "cell_type": "markdown",
   "metadata": {},
   "source": [
    "El shell solo soporta aritmética entera y está diseñado primariamente para operaciones del sistema operativo y cadenas de caracteres, por lo que en el siguiente código lo que se indica es que se están concatenando cadenas de caracteres."
   ]
  },
  {
   "cell_type": "code",
   "execution_count": 114,
   "metadata": {
    "collapsed": false,
    "scrolled": true
   },
   "outputs": [
    {
     "name": "stdout",
     "output_type": "stream",
     "text": [
      "1+1\r\n"
     ]
    }
   ],
   "source": [
    "x=1\n",
    "y=$x+1\n",
    "echo $y"
   ]
  },
  {
   "cell_type": "markdown",
   "metadata": {},
   "source": [
    "Para indicar que se están realizando operaciones aritméticas hay dos opciones: la primera es utilizar el operador `$((` ... `))`  y la segunda es usar el comando `let`."
   ]
  },
  {
   "cell_type": "code",
   "execution_count": 115,
   "metadata": {
    "collapsed": false,
    "scrolled": true
   },
   "outputs": [
    {
     "name": "stdout",
     "output_type": "stream",
     "text": [
      "2\r\n"
     ]
    }
   ],
   "source": [
    "x=1\n",
    "y=$((x+1))\n",
    "echo $y"
   ]
  },
  {
   "cell_type": "code",
   "execution_count": 116,
   "metadata": {
    "collapsed": false,
    "scrolled": true
   },
   "outputs": [
    {
     "name": "stdout",
     "output_type": "stream",
     "text": [
      "2\r\n"
     ]
    }
   ],
   "source": [
    "let x=1\n",
    "let y=x+1\n",
    "echo $y"
   ]
  },
  {
   "cell_type": "markdown",
   "metadata": {},
   "source": [
    "El shell soporta los `+=`, `-=`, ... similares a los del lenguaje C. No pueden dejarse espacios alrededor de ellos."
   ]
  },
  {
   "cell_type": "code",
   "execution_count": 117,
   "metadata": {
    "collapsed": false,
    "scrolled": false
   },
   "outputs": [
    {
     "name": "stdout",
     "output_type": "stream",
     "text": [
      "2\r\n"
     ]
    }
   ],
   "source": [
    "let x=1\n",
    "let x+=1\n",
    "echo $x"
   ]
  },
  {
   "cell_type": "markdown",
   "metadata": {},
   "source": [
    "Bash también permite el uso de arrays. Para crear un array es necesario colocar sus componentes entre `(` y `)`. Note que cuando se imprime con `echo` solo aparece el primer elemento."
   ]
  },
  {
   "cell_type": "code",
   "execution_count": 152,
   "metadata": {
    "collapsed": false,
    "scrolled": true
   },
   "outputs": [
    {
     "name": "stdout",
     "output_type": "stream",
     "text": [
      "a\r\n"
     ]
    }
   ],
   "source": [
    "x=(a b c d e)\n",
    "echo $x"
   ]
  },
  {
   "cell_type": "markdown",
   "metadata": {},
   "source": [
    "Para acceder a cada uno de los elementos se debe usar el operador `[` ... `]`, teniendo en cuenta que el primer elemento tiene índice cero, el segundo índice uno y así sucesivamente."
   ]
  },
  {
   "cell_type": "code",
   "execution_count": 153,
   "metadata": {
    "collapsed": false,
    "scrolled": true
   },
   "outputs": [
    {
     "name": "stdout",
     "output_type": "stream",
     "text": [
      "b\r\n"
     ]
    }
   ],
   "source": [
    "echo ${x[1]}"
   ]
  },
  {
   "cell_type": "markdown",
   "metadata": {},
   "source": [
    "Para imprimir todos los elementos se debe usar `[*]`."
   ]
  },
  {
   "cell_type": "code",
   "execution_count": 154,
   "metadata": {
    "collapsed": false,
    "scrolled": true
   },
   "outputs": [
    {
     "name": "stdout",
     "output_type": "stream",
     "text": [
      "a b c d e\r\n"
     ]
    }
   ],
   "source": [
    "echo ${x[*]}"
   ]
  },
  {
   "cell_type": "markdown",
   "metadata": {},
   "source": [
    "Se pueden usar las estructuras de iteración anteriores para recorrer los elementos del vector."
   ]
  },
  {
   "cell_type": "code",
   "execution_count": 155,
   "metadata": {
    "collapsed": false,
    "scrolled": true
   },
   "outputs": [
    {
     "name": "stdout",
     "output_type": "stream",
     "text": [
      "a\r\n",
      "b\r\n",
      "c\r\n",
      "d\r\n",
      "e\r\n"
     ]
    }
   ],
   "source": [
    "for n in ${x[*]}\n",
    "do\n",
    "    echo $n\n",
    "done"
   ]
  },
  {
   "cell_type": "markdown",
   "metadata": {},
   "source": [
    "Los elementos del vector también pueden ser modificados."
   ]
  },
  {
   "cell_type": "code",
   "execution_count": 156,
   "metadata": {
    "collapsed": false,
    "scrolled": true
   },
   "outputs": [
    {
     "name": "stdout",
     "output_type": "stream",
     "text": [
      "a\r\n",
      "b\r\n",
      "hola\r\n",
      "d\r\n",
      "e\r\n"
     ]
    }
   ],
   "source": [
    "x[2]='hola'\n",
    "for n in ${x[*]}\n",
    "do\n",
    "    echo $n\n",
    "done"
   ]
  },
  {
   "cell_type": "markdown",
   "metadata": {},
   "source": [
    "<br>\n",
    "<br>"
   ]
  },
  {
   "cell_type": "markdown",
   "metadata": {},
   "source": [
    "# Scripts"
   ]
  },
  {
   "cell_type": "markdown",
   "metadata": {},
   "source": [
    "[Contenido](#Contenido)"
   ]
  },
  {
   "cell_type": "markdown",
   "metadata": {},
   "source": [
    "Los scripts son archivos que contienen secuencias de comandos y que pueden ser ejecutados directamente en la línea de comandos (Bash en este caso). En el siguiente ejemplo, se va a crear un script llamado `demo.sh` el cual imprime `hola mundo` en la pantalla. "
   ]
  },
  {
   "cell_type": "markdown",
   "metadata": {},
   "source": [
    "Se direcciona la salida al archivo en vez de la pantalla."
   ]
  },
  {
   "cell_type": "code",
   "execution_count": 118,
   "metadata": {
    "collapsed": false,
    "scrolled": true
   },
   "outputs": [
    {
     "name": "stdout",
     "output_type": "stream",
     "text": []
    }
   ],
   "source": [
    "echo 'echo hola mundo' > demo.sh  "
   ]
  },
  {
   "cell_type": "markdown",
   "metadata": {},
   "source": [
    "Se imprime en pantalla en contenido de demo.sh"
   ]
  },
  {
   "cell_type": "code",
   "execution_count": 119,
   "metadata": {
    "collapsed": false,
    "scrolled": true
   },
   "outputs": [
    {
     "name": "stdout",
     "output_type": "stream",
     "text": [
      "echo hola mundo\r\n"
     ]
    }
   ],
   "source": [
    "cat demo.sh  "
   ]
  },
  {
   "cell_type": "markdown",
   "metadata": {},
   "source": [
    "El archivo fue creado en el directorio de trabajo"
   ]
  },
  {
   "cell_type": "code",
   "execution_count": 120,
   "metadata": {
    "collapsed": false,
    "scrolled": true
   },
   "outputs": [
    {
     "name": "stdout",
     "output_type": "stream",
     "text": [
      "demo.sh\r\n"
     ]
    }
   ],
   "source": [
    "ls *.sh  "
   ]
  },
  {
   "cell_type": "markdown",
   "metadata": {},
   "source": [
    "Para ejecutarlo se usa el comando `bash`."
   ]
  },
  {
   "cell_type": "code",
   "execution_count": 121,
   "metadata": {
    "collapsed": false,
    "scrolled": true
   },
   "outputs": [
    {
     "name": "stdout",
     "output_type": "stream",
     "text": [
      "hola mundo\r\n"
     ]
    }
   ],
   "source": [
    "bash ./demo.sh  "
   ]
  },
  {
   "cell_type": "markdown",
   "metadata": {},
   "source": [
    "Es posible hacer que el archivo `demo.sh`  sea ejecutable por el sistema operativo. "
   ]
  },
  {
   "cell_type": "markdown",
   "metadata": {},
   "source": [
    "En primer lugar, es necesario agregar la linea `#! /usr/bin/env bash` la cual indica que el archivo actual puede ser ejecutado usando el comando `bash`; obligatoriamente esta tiene que ser la primera línea del archivo.  La cadena de caracteres `#!` se conoce como *shebang*, *hashbang* o *sharpbang* en la jerga de Unix; después del shebang va el `path` donde se encuentra el programa que puede ejecutar el archivo actual; y finalmente, aparece el nombre del programa como tal.       "
   ]
  },
  {
   "cell_type": "code",
   "execution_count": 122,
   "metadata": {
    "collapsed": false,
    "scrolled": true
   },
   "outputs": [
    {
     "name": "stdout",
     "output_type": "stream",
     "text": []
    }
   ],
   "source": [
    "cat > demo.sh <<EOF\n",
    "#! /usr/bin/env bash\n",
    "echo hola mundo\n",
    "EOF"
   ]
  },
  {
   "cell_type": "markdown",
   "metadata": {},
   "source": [
    "Se imprime el contenido de `demo.sh`."
   ]
  },
  {
   "cell_type": "code",
   "execution_count": 123,
   "metadata": {
    "collapsed": false,
    "scrolled": true
   },
   "outputs": [
    {
     "name": "stdout",
     "output_type": "stream",
     "text": [
      "#! /usr/bin/env bash\r\n",
      "echo hola mundo\r\n"
     ]
    }
   ],
   "source": [
    "cat demo.sh "
   ]
  },
  {
   "cell_type": "markdown",
   "metadata": {},
   "source": [
    "En segundo lugar, se modifican las propiedades del archivo `demo.sh` con el comando `chmod` para hacerlo ejecutable (opción `+x`)."
   ]
  },
  {
   "cell_type": "code",
   "execution_count": 124,
   "metadata": {
    "collapsed": false,
    "scrolled": true
   },
   "outputs": [
    {
     "name": "stdout",
     "output_type": "stream",
     "text": []
    }
   ],
   "source": [
    "chmod +x demo.sh"
   ]
  },
  {
   "cell_type": "markdown",
   "metadata": {},
   "source": [
    "Para ejecutar `demo.sh` es necesario precederlo de `./` para indicar que el archivo se encuentra en el directorio actual de trabajo."
   ]
  },
  {
   "cell_type": "code",
   "execution_count": 125,
   "metadata": {
    "collapsed": false,
    "scrolled": true
   },
   "outputs": [
    {
     "name": "stdout",
     "output_type": "stream",
     "text": [
      "hola mundo\r\n"
     ]
    }
   ],
   "source": [
    "./demo.sh"
   ]
  },
  {
   "cell_type": "markdown",
   "metadata": {},
   "source": [
    "La ventaja de los scripts es que pueden ser usados pasándoles parámetros."
   ]
  },
  {
   "cell_type": "markdown",
   "metadata": {},
   "source": [
    "En este caso se modifica el programa anterior para que salude al usuario, cuyo nombre se pasa como un parámetro al script. `$1` corresponde al primer argumento de la llamada."
   ]
  },
  {
   "cell_type": "code",
   "execution_count": 29,
   "metadata": {
    "collapsed": false,
    "scrolled": true
   },
   "outputs": [
    {
     "name": "stdout",
     "output_type": "stream",
     "text": []
    }
   ],
   "source": [
    "cat > demo.sh <<EOF\n",
    "#! /usr/bin/env bash\n",
    "echo hola $1\n",
    "EOF"
   ]
  },
  {
   "cell_type": "code",
   "execution_count": 30,
   "metadata": {
    "collapsed": false,
    "scrolled": true
   },
   "outputs": [
    {
     "name": "stdout",
     "output_type": "stream",
     "text": [
      "#! /usr/bin/env bash\r\n",
      "echo hola \r\n"
     ]
    }
   ],
   "source": [
    "cat demo.sh"
   ]
  },
  {
   "cell_type": "code",
   "execution_count": 128,
   "metadata": {
    "collapsed": false,
    "scrolled": true
   },
   "outputs": [
    {
     "name": "stdout",
     "output_type": "stream",
     "text": [
      "hola juan\r\n"
     ]
    }
   ],
   "source": [
    "./demo.sh juan"
   ]
  },
  {
   "cell_type": "markdown",
   "metadata": {},
   "source": [
    "Como se observó en el ejemplo anterior: \n",
    "* `$1` indica el primer argumento. \n",
    "* `$2` indica el segundo argumento, y así sucesivamente. \n",
    "* `$0` es el nombre del script. \n",
    "* `$*` y `$@` representan la cadena de texto conformada por todos los argumentos. \n",
    "* `$#` indica el número de argumentos pasados al script. "
   ]
  },
  {
   "cell_type": "code",
   "execution_count": 129,
   "metadata": {
    "collapsed": false,
    "scrolled": true
   },
   "outputs": [
    {
     "name": "stdout",
     "output_type": "stream",
     "text": [
      "echo $@\r\n",
      "echo $*\r\n",
      "echo $0\r\n",
      "echo $1\r\n",
      "echo $#\r\n"
     ]
    }
   ],
   "source": [
    "echo \"echo \\$@\n",
    "echo \\$*\n",
    "echo \\$0\n",
    "echo \\$1\n",
    "echo \\$#\" > demo.sh\n",
    "cat demo.sh"
   ]
  },
  {
   "cell_type": "code",
   "execution_count": 130,
   "metadata": {
    "collapsed": false,
    "scrolled": false
   },
   "outputs": [
    {
     "name": "stdout",
     "output_type": "stream",
     "text": [
      "a b c d\r\n",
      "a b c d\r\n",
      "demo.sh\r\n",
      "a\r\n",
      "4\r\n"
     ]
    }
   ],
   "source": [
    "bash demo.sh a b c d"
   ]
  },
  {
   "cell_type": "markdown",
   "metadata": {},
   "source": [
    "---"
   ]
  },
  {
   "cell_type": "markdown",
   "metadata": {},
   "source": [
    "**Ejercicio.--** Escriba un script que imprima en pantalla la cantidad de registros para cada ciudad en el archivo `customer`. "
   ]
  },
  {
   "cell_type": "code",
   "execution_count": null,
   "metadata": {
    "collapsed": true
   },
   "outputs": [],
   "source": []
  },
  {
   "cell_type": "markdown",
   "metadata": {},
   "source": [
    "---"
   ]
  },
  {
   "cell_type": "markdown",
   "metadata": {},
   "source": [
    "# Funciones"
   ]
  },
  {
   "cell_type": "markdown",
   "metadata": {},
   "source": [
    "[Contenido](#Contenido)"
   ]
  },
  {
   "cell_type": "markdown",
   "metadata": {},
   "source": [
    "En el siguiente ejemplo se crea una función en Bash. Después del nombre de la función siempre se escribe `()` y se delimita el cuerpo de la función usando llaves (`{`  y `}`)."
   ]
  },
  {
   "cell_type": "code",
   "execution_count": 131,
   "metadata": {
    "collapsed": false,
    "scrolled": true
   },
   "outputs": [
    {
     "name": "stdout",
     "output_type": "stream",
     "text": []
    }
   ],
   "source": [
    "demo(){\n",
    "  echo hola mundo\n",
    "}"
   ]
  },
  {
   "cell_type": "markdown",
   "metadata": {},
   "source": [
    "Para ejecutar la función simplemente se escribe su nombre (sin `()`)."
   ]
  },
  {
   "cell_type": "code",
   "execution_count": 132,
   "metadata": {
    "collapsed": false,
    "scrolled": true
   },
   "outputs": [
    {
     "name": "stdout",
     "output_type": "stream",
     "text": [
      "hola mundo\r\n"
     ]
    }
   ],
   "source": [
    "demo"
   ]
  },
  {
   "cell_type": "markdown",
   "metadata": {},
   "source": [
    "Los argumentos se notan como `$1`... al igual que en los scripts. En este caso `$0` es el `bash` y no se puede acceder al nombre de la función. Note que en la llamada a la función no se usan paréntesis, tal como si ocurre en otros lenguajes de programación."
   ]
  },
  {
   "cell_type": "code",
   "execution_count": 133,
   "metadata": {
    "collapsed": false,
    "scrolled": true
   },
   "outputs": [
    {
     "name": "stdout",
     "output_type": "stream",
     "text": [
      "a b c d\r\n",
      "a b c d\r\n",
      "/bin/bash\r\n",
      "a\r\n",
      "4\r\n"
     ]
    }
   ],
   "source": [
    "demo() {\n",
    "  echo $@\n",
    "  echo $*\n",
    "  echo $0\n",
    "  echo $1\n",
    "  echo $#\n",
    "}\n",
    "demo a b c d"
   ]
  },
  {
   "cell_type": "markdown",
   "metadata": {},
   "source": [
    "Las funciones pueden ser almacenadas y ejecutadas dentro de un script, tal como se muestra a continuación."
   ]
  },
  {
   "cell_type": "code",
   "execution_count": 31,
   "metadata": {
    "collapsed": false
   },
   "outputs": [
    {
     "name": "stdout",
     "output_type": "stream",
     "text": []
    }
   ],
   "source": [
    "cat > maxmin.sh <<EOF \n",
    "min2(){\n",
    "    echo 'arg1 (min2): ' \\$1\n",
    "    echo 'arg2 (min2): ' \\$2\n",
    "    if ((\\$1 < \\$2))\n",
    "    then \n",
    "        echo \\$1\n",
    "    else\n",
    "        echo \\$2\n",
    "    fi        \n",
    "}\n",
    "\n",
    "max2(){\n",
    "    echo 'arg1 (max2): ' \\$1\n",
    "    echo 'arg2 (max2): ' \\$2\n",
    "    if ((\\$1 > \\$2))\n",
    "    then \n",
    "        echo \\$1\n",
    "    else\n",
    "        echo \\$2\n",
    "    fi        \n",
    "}\n",
    "\n",
    "max2 \\$3 \\$4\n",
    "min2 \\$1 \\$2\n",
    "EOF"
   ]
  },
  {
   "cell_type": "code",
   "execution_count": 32,
   "metadata": {
    "collapsed": false,
    "scrolled": true
   },
   "outputs": [
    {
     "name": "stdout",
     "output_type": "stream",
     "text": [
      "arg1 (max2):  30\r\n",
      "arg2 (max2):  40\r\n",
      "40\r\n",
      "arg1 (min2):  10\r\n",
      "arg2 (min2):  20\r\n",
      "10\r\n"
     ]
    }
   ],
   "source": [
    "bash maxmin.sh 10 20 30 40"
   ]
  },
  {
   "cell_type": "markdown",
   "metadata": {},
   "source": [
    "<br>\n",
    "<br>"
   ]
  },
  {
   "cell_type": "markdown",
   "metadata": {},
   "source": [
    "<br>\n",
    "<br>"
   ]
  },
  {
   "cell_type": "markdown",
   "metadata": {},
   "source": [
    "# Estructuras de control"
   ]
  },
  {
   "cell_type": "markdown",
   "metadata": {},
   "source": [
    "[Contenido](#Contenido)"
   ]
  },
  {
   "cell_type": "markdown",
   "metadata": {},
   "source": [
    "## Decisión con `if-then-else-fi` y `case-esac`"
   ]
  },
  {
   "cell_type": "markdown",
   "metadata": {},
   "source": [
    "[Contenido](#Contenido)"
   ]
  },
  {
   "cell_type": "markdown",
   "metadata": {},
   "source": [
    "En el siguiente ejemplo se codifica la función `min2` la cual recibe dos números enteros e imprime el menor de ellos. Si ambos números son iguales, se imprimen ambos argumentos. En este ejemplo también se presenta la estructura condicional `if`; para que el condicional sea evaluado correctamente es necesario colocar la expresión entre `((` y `))`. "
   ]
  },
  {
   "cell_type": "code",
   "execution_count": 134,
   "metadata": {
    "collapsed": false,
    "scrolled": true
   },
   "outputs": [
    {
     "name": "stdout",
     "output_type": "stream",
     "text": [
      "1\r\n"
     ]
    }
   ],
   "source": [
    "min2(){\n",
    "    if (($1 < $2))\n",
    "    then \n",
    "        echo $1\n",
    "    elif (($1 == $2))\n",
    "    then\n",
    "        echo $1 $2\n",
    "    else\n",
    "        echo $2\n",
    "    fi        \n",
    "}\n",
    "min2 1 2"
   ]
  },
  {
   "cell_type": "code",
   "execution_count": 135,
   "metadata": {
    "collapsed": false,
    "scrolled": true
   },
   "outputs": [
    {
     "name": "stdout",
     "output_type": "stream",
     "text": [
      "1\r\n"
     ]
    }
   ],
   "source": [
    "min2 2 1"
   ]
  },
  {
   "cell_type": "code",
   "execution_count": 136,
   "metadata": {
    "collapsed": false,
    "scrolled": true
   },
   "outputs": [
    {
     "name": "stdout",
     "output_type": "stream",
     "text": [
      "2 2\r\n"
     ]
    }
   ],
   "source": [
    "min2 2 2"
   ]
  },
  {
   "cell_type": "markdown",
   "metadata": {},
   "source": [
    "El siguiente codigo lee los nombres de los archivos del directorio actual e imprime los que son un jupyter notebook. En la primera línea, `*` indica los archivos y directorios en el directorio actual de trabajo.  En la cuarta línea, `*.ipynb` indica que el nombre de archivo (almacenado en `x`) debe terminar en la extensión `.ipynb`. La expresión `*)` en la quinta línea es el caso por defecto (cualquier nombre de archivo), es decir, se ejecuta si no han cumplido ninguna de las instrucciones especificadas por las sentencias `case` anteriores."
   ]
  },
  {
   "cell_type": "code",
   "execution_count": 137,
   "metadata": {
    "collapsed": false,
    "scrolled": true
   },
   "outputs": [
    {
     "name": "stdout",
     "output_type": "stream",
     "text": [
      "fundamentos-programacion-bash.ipynb  es un Jupyter notebook\r\n"
     ]
    }
   ],
   "source": [
    "for x in *\n",
    "do\n",
    "    case $x in\n",
    "        *.ipynb) echo -n -e $x ' es un Jupyter notebook\\n';;\n",
    "        *) \n",
    "    esac\n",
    "done"
   ]
  },
  {
   "cell_type": "markdown",
   "metadata": {},
   "source": [
    "---"
   ]
  },
  {
   "cell_type": "markdown",
   "metadata": {},
   "source": [
    "**Ejercicio.--** Escriba una función, llamada `mathop` que recibe tres argumentos y ejecuta el cálculo especificado. Por ejemplo:\n",
    "```\n",
    "mathop 1 + 2\n",
    "mathop 1 * 2\n",
    "mathop 1 - 2\n",
    "```"
   ]
  },
  {
   "cell_type": "code",
   "execution_count": null,
   "metadata": {
    "collapsed": true
   },
   "outputs": [],
   "source": []
  },
  {
   "cell_type": "markdown",
   "metadata": {},
   "source": [
    "**Ejercicio.--** Escriba una función que calcule el factorial de su argumento."
   ]
  },
  {
   "cell_type": "code",
   "execution_count": null,
   "metadata": {
    "collapsed": true
   },
   "outputs": [],
   "source": []
  },
  {
   "cell_type": "markdown",
   "metadata": {},
   "source": [
    "**Ejercicio.--** Escriba una función que reciba un número variable de argumentos y calcule su suma."
   ]
  },
  {
   "cell_type": "code",
   "execution_count": null,
   "metadata": {
    "collapsed": true
   },
   "outputs": [],
   "source": []
  },
  {
   "cell_type": "markdown",
   "metadata": {},
   "source": [
    "---"
   ]
  },
  {
   "cell_type": "markdown",
   "metadata": {},
   "source": [
    "## Ciclos definidos con `for`"
   ]
  },
  {
   "cell_type": "markdown",
   "metadata": {},
   "source": [
    "[Contenido](#Contenido)"
   ]
  },
  {
   "cell_type": "markdown",
   "metadata": {},
   "source": [
    "A continuación se presentan varios ejemplos de procesos iterativos usando `for`."
   ]
  },
  {
   "cell_type": "code",
   "execution_count": 139,
   "metadata": {
    "collapsed": false,
    "scrolled": true
   },
   "outputs": [
    {
     "name": "stdout",
     "output_type": "stream",
     "text": [
      "1 2 3 4 5 "
     ]
    }
   ],
   "source": [
    "# imprime los números del 1 al 5.\n",
    "for x in 1 2 3 4 5  \n",
    "do\n",
    "    echo -n $x ''\n",
    "done"
   ]
  },
  {
   "cell_type": "code",
   "execution_count": 140,
   "metadata": {
    "collapsed": false,
    "scrolled": true
   },
   "outputs": [
    {
     "name": "stdout",
     "output_type": "stream",
     "text": [
      "1 2 3 4 5 "
     ]
    }
   ],
   "source": [
    "# el mismo ejemplo anterior.\n",
    "for x in $(seq 1 5) \n",
    "do\n",
    "    echo -n $x ''\n",
    "done"
   ]
  },
  {
   "cell_type": "code",
   "execution_count": 141,
   "metadata": {
    "collapsed": false,
    "scrolled": true
   },
   "outputs": [
    {
     "name": "stdout",
     "output_type": "stream",
     "text": [
      "1 2 3 4 5 "
     ]
    }
   ],
   "source": [
    "# de nuevo, el mismo ejemplo anterior\n",
    "for x in {1..5} \n",
    "do\n",
    "    echo -n $x ''\n",
    "done"
   ]
  },
  {
   "cell_type": "code",
   "execution_count": 142,
   "metadata": {
    "collapsed": false,
    "scrolled": true
   },
   "outputs": [
    {
     "name": "stdout",
     "output_type": "stream",
     "text": [
      "1 2 3 4 5 "
     ]
    }
   ],
   "source": [
    "# note que la expresión va entre '(('  y '))'\n",
    "for ((x=1; x <= 5; x++))  \n",
    "do\n",
    "  echo -n $x ''\n",
    "done"
   ]
  },
  {
   "cell_type": "markdown",
   "metadata": {},
   "source": [
    "En el siguiente ejemplo se generarán las cadenas de texto `file1.txt`, `file2.txt` ... hasta `file5.txt` usando un ciclo `for`. El nombre de la variable debe encerrarse entre `${` y `}` para distingirlo del resto de la cadena de texto. Es decir, si se coloca `echo filex.txt` o `echo file$x.txt` el interprete no puede diferenciar el nombre de la variable (`x`) del texto restante."
   ]
  },
  {
   "cell_type": "code",
   "execution_count": 143,
   "metadata": {
    "collapsed": false,
    "scrolled": true
   },
   "outputs": [
    {
     "name": "stdout",
     "output_type": "stream",
     "text": [
      "file1.txt\r\n",
      "file2.txt\r\n",
      "file3.txt\r\n",
      "file4.txt\r\n",
      "file5.txt\r\n"
     ]
    }
   ],
   "source": [
    "for x in {1..5} \n",
    "do\n",
    "    echo file${x}.txt\n",
    "done"
   ]
  },
  {
   "cell_type": "markdown",
   "metadata": {},
   "source": [
    "De hecho, se pueden generar salidas mucho más complejas, tal como se ilustra a continuación (Ok! no se necesita el for para esto, pero es para ejemplificar)."
   ]
  },
  {
   "cell_type": "code",
   "execution_count": 144,
   "metadata": {
    "collapsed": false,
    "scrolled": true
   },
   "outputs": [
    {
     "name": "stdout",
     "output_type": "stream",
     "text": [
      "---> file1.txt\r\n",
      "---> file2.txt\r\n",
      "---> file3.txt\r\n",
      "---> file4.txt\r\n",
      "---> file5.txt\r\n"
     ]
    }
   ],
   "source": [
    "# el for recibe el resultado de ejecutar la expresión entre '$('  y  ')'.\n",
    "for x in $(seq -f'file%g.txt' 5) \n",
    "do\n",
    "    echo '--->' $x\n",
    "done"
   ]
  },
  {
   "cell_type": "markdown",
   "metadata": {},
   "source": [
    "En el siguiente ejemplo se genera un conjunto de archivos llamados `out.1`, `out.2`, ..., `out.5`. "
   ]
  },
  {
   "cell_type": "code",
   "execution_count": 145,
   "metadata": {
    "collapsed": false,
    "scrolled": true
   },
   "outputs": [
    {
     "name": "stdout",
     "output_type": "stream",
     "text": [
      "out.1\tout.2\tout.3\tout.4\tout.5\r\n"
     ]
    }
   ],
   "source": [
    "for x in {1..5}\n",
    "do\n",
    "    seq -f'linea %g' 5 > out.${x}\n",
    "done\n",
    "ls out.*"
   ]
  },
  {
   "cell_type": "markdown",
   "metadata": {},
   "source": [
    "A continuación se usa el comando `head` para iterar sobre los archivos e imprimir la primera línea de cada uno de ellos."
   ]
  },
  {
   "cell_type": "code",
   "execution_count": 146,
   "metadata": {
    "collapsed": false,
    "scrolled": true
   },
   "outputs": [
    {
     "name": "stdout",
     "output_type": "stream",
     "text": [
      "linea 1\r\n",
      "linea 1\r\n",
      "linea 1\r\n",
      "linea 1\r\n",
      "linea 1\r\n"
     ]
    }
   ],
   "source": [
    "head1(){\n",
    "    for x in out.*\n",
    "    do\n",
    "        head -n 1 $x\n",
    "    done\n",
    "}\n",
    "head1"
   ]
  },
  {
   "cell_type": "markdown",
   "metadata": {},
   "source": [
    "## Ciclos condicionales con `while` "
   ]
  },
  {
   "cell_type": "markdown",
   "metadata": {},
   "source": [
    "[Contenido](#Contenido)"
   ]
  },
  {
   "cell_type": "markdown",
   "metadata": {},
   "source": [
    "El último ejemplo puede ser realizado usando un ciclo `while` en vez de un ciclo `for`. En este caso, el condicional puede ser especificado con la palabra clave `test` o colocando el condicional entre `((` y `))`.  "
   ]
  },
  {
   "cell_type": "code",
   "execution_count": 147,
   "metadata": {
    "collapsed": false,
    "scrolled": true
   },
   "outputs": [
    {
     "name": "stdout",
     "output_type": "stream",
     "text": [
      "file1.txt\r\n",
      "file2.txt\r\n",
      "file3.txt\r\n",
      "file4.txt\r\n",
      "file5.txt\r\n"
     ]
    }
   ],
   "source": [
    "n=1\n",
    "while test $n -le 5\n",
    "do\n",
    "    echo file${n}.txt\n",
    "    n=$((n+1))\n",
    "done"
   ]
  },
  {
   "cell_type": "code",
   "execution_count": 148,
   "metadata": {
    "collapsed": false,
    "scrolled": true
   },
   "outputs": [
    {
     "name": "stdout",
     "output_type": "stream",
     "text": [
      "file1.txt\r\n",
      "file2.txt\r\n",
      "file3.txt\r\n",
      "file4.txt\r\n",
      "file5.txt\r\n"
     ]
    }
   ],
   "source": [
    "n=1\n",
    "while (($n <= 5))\n",
    "do\n",
    "    echo file${n}.txt\n",
    "    n=$((n+1))\n",
    "done"
   ]
  },
  {
   "cell_type": "markdown",
   "metadata": {},
   "source": [
    "## Ciclos condicionales con `until`"
   ]
  },
  {
   "cell_type": "markdown",
   "metadata": {},
   "source": [
    "[Contenido](#Contenido)"
   ]
  },
  {
   "cell_type": "markdown",
   "metadata": {},
   "source": [
    "Otra forma alternativa es usar un ciclo `until`."
   ]
  },
  {
   "cell_type": "code",
   "execution_count": 149,
   "metadata": {
    "collapsed": false,
    "scrolled": true
   },
   "outputs": [
    {
     "name": "stdout",
     "output_type": "stream",
     "text": [
      "file1.txt\r\n",
      "file2.txt\r\n",
      "file3.txt\r\n",
      "file4.txt\r\n",
      "file5.txt\r\n"
     ]
    }
   ],
   "source": [
    "n=1\n",
    "until (($n > 5))\n",
    "do\n",
    "    echo file${n}.txt\n",
    "    n=$((n+1))\n",
    "done"
   ]
  },
  {
   "cell_type": "markdown",
   "metadata": {},
   "source": [
    "En el último ejemplo de esta sección, se codifica una función que recibe una lista de enteros e imprime el menor de ellos."
   ]
  },
  {
   "cell_type": "code",
   "execution_count": 150,
   "metadata": {
    "collapsed": false,
    "scrolled": false
   },
   "outputs": [
    {
     "name": "stdout",
     "output_type": "stream",
     "text": [
      "1\r\n"
     ]
    }
   ],
   "source": [
    "minimum(){\n",
    "    n=$1\n",
    "    for x in $*\n",
    "    do\n",
    "        if test $x -lt $n \n",
    "        then\n",
    "            n=$x\n",
    "        fi\n",
    "    done\n",
    "    echo $n\n",
    "}\n",
    "minimum 6 1 7 5 1 2  5"
   ]
  },
  {
   "cell_type": "markdown",
   "metadata": {},
   "source": [
    "---"
   ]
  },
  {
   "cell_type": "markdown",
   "metadata": {},
   "source": [
    "**Ejercicio.--** Escriba una función que genere un número entero consecutivo por cada valor diferente en un campo de un archivo CSV. Uselo en el archivo del ejercicio anterior."
   ]
  },
  {
   "cell_type": "code",
   "execution_count": null,
   "metadata": {
    "collapsed": true
   },
   "outputs": [],
   "source": []
  },
  {
   "cell_type": "markdown",
   "metadata": {},
   "source": [
    "---"
   ]
  },
  {
   "cell_type": "markdown",
   "metadata": {},
   "source": [
    "<br>\n",
    "<br>"
   ]
  },
  {
   "cell_type": "markdown",
   "metadata": {},
   "source": [
    "# Cálculos numéricos en punto flotante"
   ]
  },
  {
   "cell_type": "markdown",
   "metadata": {},
   "source": [
    "[Contenido](#Contenido)"
   ]
  },
  {
   "cell_type": "markdown",
   "metadata": {},
   "source": [
    "(El comando bc no está disponible en Try Jupyter!)\n",
    "\n",
    "\n",
    "Como ya se indicó, Bash solo puede realizar aritmética entera. Para realizar cálculos en punto flotante se debe usar el comando `bc` o el comando `dc`. Se iniciará con `bc`. Para realizar una operación aritmética, como por ejemplo la suma, se debe generar una cadena de la forma `1.0+2.0+3.0`, la cual es pasada a `bc`. El siguiente código muestra como se genera dicha cadena en cada iteración del ciclo `for`. La variable `s` se usa para almacenar la expresión matemática como una cadena de caracteres. "
   ]
  },
  {
   "cell_type": "code",
   "execution_count": 157,
   "metadata": {
    "collapsed": false,
    "scrolled": true
   },
   "outputs": [
    {
     "name": "stdout",
     "output_type": "stream",
     "text": [
      "0 + 1.1\r\n",
      "0 + 1.1 + 2.2\r\n",
      "0 + 1.1 + 2.2 + 3.3\r\n"
     ]
    }
   ],
   "source": [
    "s=0\n",
    "for x in 1.1 2.2 3.3\n",
    "do\n",
    "    s=$(echo $s \\+ $x)\n",
    "    echo $s\n",
    "done"
   ]
  },
  {
   "cell_type": "markdown",
   "metadata": {},
   "source": [
    "Ahora se le pasa la cadena almacenada en `s` a `bc`."
   ]
  },
  {
   "cell_type": "code",
   "execution_count": 158,
   "metadata": {
    "collapsed": false,
    "scrolled": true
   },
   "outputs": [
    {
     "name": "stdout",
     "output_type": "stream",
     "text": [
      "6.6\r\n"
     ]
    }
   ],
   "source": [
    "s=0\n",
    "for x in 1.1 2.2 3.3 \n",
    "do\n",
    "    s=$(echo $s \\+ $x)\n",
    "done\n",
    "echo $s | bc"
   ]
  },
  {
   "cell_type": "markdown",
   "metadata": {},
   "source": [
    "Otra forma sería usar la variable `s` para almacenar la suma parcial, tal como se ejemplifica a continuación."
   ]
  },
  {
   "cell_type": "code",
   "execution_count": 159,
   "metadata": {
    "collapsed": false,
    "scrolled": true
   },
   "outputs": [
    {
     "name": "stdout",
     "output_type": "stream",
     "text": [
      "1.1\r\n",
      "3.3\r\n",
      "6.6\r\n"
     ]
    }
   ],
   "source": [
    "s=0\n",
    "for x in 1.1 2.2 3.3\n",
    "do\n",
    "    s=$(echo $s \\+ $x | bc)\n",
    "    echo $s\n",
    "done"
   ]
  },
  {
   "cell_type": "markdown",
   "metadata": {},
   "source": [
    "Ahora se puede encapsular el código en una función que sume sus argumentos."
   ]
  },
  {
   "cell_type": "code",
   "execution_count": 160,
   "metadata": {
    "collapsed": false,
    "scrolled": true
   },
   "outputs": [
    {
     "name": "stdout",
     "output_type": "stream",
     "text": [
      "10.4\r\n"
     ]
    }
   ],
   "source": [
    "sum(){\n",
    "    s=0\n",
    "    for x in $*\n",
    "    do\n",
    "        s=$(echo $s \\+ $x)\n",
    "    done\n",
    "    echo $s | bc\n",
    "}\n",
    "sum 1.1 2.1 3.1 4.1"
   ]
  },
  {
   "cell_type": "markdown",
   "metadata": {},
   "source": [
    "El comando `dc` es una calculadora de notación postfija. El siguiente código permite sumar los números 1, 2 y 3. Se debe colocar la letra `p` al final para que imprima el resultado."
   ]
  },
  {
   "cell_type": "code",
   "execution_count": 161,
   "metadata": {
    "collapsed": false,
    "scrolled": true
   },
   "outputs": [
    {
     "name": "stdout",
     "output_type": "stream",
     "text": [
      "6\r\n"
     ]
    }
   ],
   "source": [
    "echo '1 2 + 3 + p' | dc"
   ]
  },
  {
   "cell_type": "code",
   "execution_count": 162,
   "metadata": {
    "collapsed": false,
    "scrolled": true
   },
   "outputs": [
    {
     "name": "stdout",
     "output_type": "stream",
     "text": [
      "10.4\r\n"
     ]
    }
   ],
   "source": [
    "sum(){\n",
    "    s=0\n",
    "    for x in $*\n",
    "    do\n",
    "        s=$(echo $s  $x \\+)\n",
    "    done\n",
    "    echo $s ' p'  | dc\n",
    "}\n",
    "sum 1.1 2.1 3.1 4.1"
   ]
  },
  {
   "cell_type": "markdown",
   "metadata": {},
   "source": [
    "---"
   ]
  },
  {
   "cell_type": "markdown",
   "metadata": {},
   "source": [
    "**Ejercicio.--** Escriba la función `csvsum` que recibe un archivo CSV, el número del campo clave y el número del campo a sumar, y retorna la suma de la columna especificada para cada valor único del campo clave. "
   ]
  },
  {
   "cell_type": "code",
   "execution_count": 163,
   "metadata": {
    "collapsed": false
   },
   "outputs": [
    {
     "name": "stdout",
     "output_type": "stream",
     "text": []
    }
   ],
   "source": [
    "cat > out.1 <<EOF\n",
    "Date, Year, CustomerID, Value\n",
    "   2013-01-12, 2013, 1, 10.1\n",
    "   2013-02-25, 2013, 2, 20.3\n",
    "   2013-02-28, 2013, 1, 10.4\n",
    "   2013-04-04, 2013, 1, 14.0\n",
    "   2013-06-21, 2013, 2, 21.2\n",
    "   2013-08-02, 2013, 1, 12.5\n",
    "   2014-05-12, 2014, 1, 31.4\n",
    "   2014-05-12, 2014, 2, 14.2\n",
    "   2014-05-12, 2014, 1, 12.0\n",
    "EOF"
   ]
  },
  {
   "cell_type": "code",
   "execution_count": null,
   "metadata": {
    "collapsed": true
   },
   "outputs": [],
   "source": []
  },
  {
   "cell_type": "markdown",
   "metadata": {},
   "source": [
    "**Ejercicio.--** Escriba la función `cpaste` que ejecuta un join cartesiano de dos archvos. Esto es, la primera fila del primer archivo con todas las filas del segundo archivo; luego la segunda fila del primer archivo con todas las filas del segundo archivo y así sucesivamente. "
   ]
  },
  {
   "cell_type": "code",
   "execution_count": null,
   "metadata": {
    "collapsed": true
   },
   "outputs": [],
   "source": []
  },
  {
   "cell_type": "markdown",
   "metadata": {},
   "source": [
    "**Ejercicio.--** Escriba una función que concatene correctamente dos archivos CSV que tienen las mimas columnas, pero en diferente orden. Usela para concatenar los dos archivos especificados a continuación."
   ]
  },
  {
   "cell_type": "code",
   "execution_count": 164,
   "metadata": {
    "collapsed": false
   },
   "outputs": [
    {
     "name": "stdout",
     "output_type": "stream",
     "text": []
    }
   ],
   "source": [
    "cat > out.1 <<EOF\n",
    "   A, B, C\n",
    "   1, 2, 3\n",
    "   4, 5, 6\n",
    "EOF"
   ]
  },
  {
   "cell_type": "code",
   "execution_count": 165,
   "metadata": {
    "collapsed": false
   },
   "outputs": [
    {
     "name": "stdout",
     "output_type": "stream",
     "text": []
    }
   ],
   "source": [
    "cat > out.2 <<EOF\n",
    "   A, C, B\n",
    "   7, 8, 9\n",
    "   10, 11, 12\n",
    "EOF"
   ]
  },
  {
   "cell_type": "code",
   "execution_count": null,
   "metadata": {
    "collapsed": true
   },
   "outputs": [],
   "source": []
  },
  {
   "cell_type": "markdown",
   "metadata": {},
   "source": [
    "**Ejercicio.--** Verifique que la función del ejercicio anterior opera correctamente con: "
   ]
  },
  {
   "cell_type": "code",
   "execution_count": 166,
   "metadata": {
    "collapsed": false
   },
   "outputs": [
    {
     "name": "stdout",
     "output_type": "stream",
     "text": []
    }
   ],
   "source": [
    "cat > out.1 <<EOF\n",
    "   A, B, C\n",
    "   1, 2, 3\n",
    "   4, 5, 6\n",
    "EOF"
   ]
  },
  {
   "cell_type": "code",
   "execution_count": 167,
   "metadata": {
    "collapsed": false
   },
   "outputs": [
    {
     "name": "stdout",
     "output_type": "stream",
     "text": []
    }
   ],
   "source": [
    "cat > out.2 <<EOF\n",
    "   A, C\n",
    "   7, 8\n",
    "   10, 11\n",
    "EOF"
   ]
  },
  {
   "cell_type": "code",
   "execution_count": null,
   "metadata": {
    "collapsed": true
   },
   "outputs": [],
   "source": []
  },
  {
   "cell_type": "markdown",
   "metadata": {},
   "source": [
    "**Ejercicio.--** Agregue el campo `subtotal` al archivo `orderline` que es calculado como `quantity` * `price`. "
   ]
  },
  {
   "cell_type": "code",
   "execution_count": null,
   "metadata": {
    "collapsed": true
   },
   "outputs": [],
   "source": []
  },
  {
   "cell_type": "markdown",
   "metadata": {},
   "source": [
    "**Ejercicio.--** Agregue el campo `total` al archivo `order` el cual corresponde al valor total de la venta en cada orden. "
   ]
  },
  {
   "cell_type": "code",
   "execution_count": null,
   "metadata": {
    "collapsed": true
   },
   "outputs": [],
   "source": []
  },
  {
   "cell_type": "markdown",
   "metadata": {},
   "source": [
    "**Ejercicio.--** Agregue el campo `quarter` y sus correspondientes valores al archivo `order`."
   ]
  },
  {
   "cell_type": "code",
   "execution_count": null,
   "metadata": {
    "collapsed": true
   },
   "outputs": [],
   "source": []
  },
  {
   "cell_type": "markdown",
   "metadata": {},
   "source": [
    "**Ejercicio.--** Genere los archivos `order.` *`CostumerID`*, los cuales contienen las órdenes para cada `CustomerID`."
   ]
  },
  {
   "cell_type": "code",
   "execution_count": null,
   "metadata": {
    "collapsed": true
   },
   "outputs": [],
   "source": []
  },
  {
   "cell_type": "markdown",
   "metadata": {},
   "source": [
    "**Ejercicio.--** Elimine el campo `Email` del archivo `customer`."
   ]
  },
  {
   "cell_type": "code",
   "execution_count": null,
   "metadata": {
    "collapsed": true
   },
   "outputs": [],
   "source": []
  },
  {
   "cell_type": "markdown",
   "metadata": {},
   "source": [
    "**Ejercicio.--** Genere un archivo con el total pagado a cada `supplier` (archivo `product`) por año. "
   ]
  },
  {
   "cell_type": "code",
   "execution_count": null,
   "metadata": {
    "collapsed": true
   },
   "outputs": [],
   "source": []
  },
  {
   "cell_type": "markdown",
   "metadata": {},
   "source": [
    "---"
   ]
  },
  {
   "cell_type": "markdown",
   "metadata": {},
   "source": [
    "<br>\n",
    "<br>"
   ]
  },
  {
   "cell_type": "markdown",
   "metadata": {},
   "source": [
    "# Implementación de herramientas escritas en otros lenguajes   "
   ]
  },
  {
   "cell_type": "markdown",
   "metadata": {},
   "source": [
    "[Contenido](#Contenido)"
   ]
  },
  {
   "cell_type": "markdown",
   "metadata": {},
   "source": [
    "Una de las características primordiales del sistema operativo Unix es que los comandos como cat y ls, realmente son programas (almacenados en archivos) que existen en el disco duro del computador y el interprete de comandos los ejecuta en respuesta a las acciones del usuario. Cada uno de estos programas puede estar escrito en un lenguaje de programación y el interprete permite que se ejecuten de una forma transparente. Consecuentemente, la utilidad de la línea de comandos radica en la posibilidad de crear nuevas herramientas con el lenguaje de programación que sea más ventajoso para cada tarea particular, y combinarlas con las herramientas existentes.  "
   ]
  },
  {
   "cell_type": "markdown",
   "metadata": {},
   "source": [
    "## Herramientas en Python"
   ]
  },
  {
   "cell_type": "markdown",
   "metadata": {},
   "source": [
    "[Contenido](#Contenido)"
   ]
  },
  {
   "cell_type": "markdown",
   "metadata": {
    "collapsed": false
   },
   "source": [
    "Como primer ejemplo, se escribirá una herramienta `seq.py` en el lenguaje Python, la cual  recibe como parámetro un entero `n` e imprima la secuencia de `1` hasta `n`. Si se desea una herramientas que funcione de forma similar a los comandos del sistema operativo se obviaría la extensión del archivo. "
   ]
  },
  {
   "cell_type": "markdown",
   "metadata": {},
   "source": [
    "El primer paso es ubicar el directorio de instalación de Python usando el comando `which`."
   ]
  },
  {
   "cell_type": "code",
   "execution_count": 168,
   "metadata": {
    "collapsed": false,
    "scrolled": true
   },
   "outputs": [
    {
     "name": "stdout",
     "output_type": "stream",
     "text": [
      "/Users/jdvelasq/anaconda/bin/python\r\n",
      "/usr/bin/python\r\n"
     ]
    }
   ],
   "source": [
    "which -a python"
   ]
  },
  {
   "cell_type": "markdown",
   "metadata": {},
   "source": [
    "El resultado anterior indica que hay dos instalaciones de Python en la máquina local. El primer interprete está en el directorio `/Users/jdvelasq/anaconda/bin/python` y el segundo en `/usr/bin/python`. Para determinar que versión de Python se encuentra instalada en cada directorio se llama el interprete con la opción `--version`. "
   ]
  },
  {
   "cell_type": "code",
   "execution_count": 169,
   "metadata": {
    "collapsed": false,
    "scrolled": true
   },
   "outputs": [
    {
     "name": "stdout",
     "output_type": "stream",
     "text": [
      "Python 3.5.1 :: Anaconda 4.0.0 (x86_64)\r\n"
     ]
    }
   ],
   "source": [
    "/Users/jdvelasq/anaconda/bin/python --version"
   ]
  },
  {
   "cell_type": "code",
   "execution_count": 170,
   "metadata": {
    "collapsed": false,
    "scrolled": true
   },
   "outputs": [
    {
     "name": "stdout",
     "output_type": "stream",
     "text": [
      "Python 2.7.10\r\n"
     ]
    }
   ],
   "source": [
    "/usr/bin/python --version"
   ]
  },
  {
   "cell_type": "markdown",
   "metadata": {},
   "source": [
    "Esto indica que están instaladas las versiones 3.5.1 y 2.7.10. Ya que el directorio `/Users/jdvelasq/anaconda/bin/python` está en primero en el path de la máquina, cuando se invoca el interprete se ejecuta Python 3.5.1. Por ejemplo:"
   ]
  },
  {
   "cell_type": "code",
   "execution_count": 171,
   "metadata": {
    "collapsed": false,
    "scrolled": true
   },
   "outputs": [
    {
     "name": "stdout",
     "output_type": "stream",
     "text": [
      "Python 3.5.1 :: Anaconda 4.0.0 (x86_64)\r\n"
     ]
    }
   ],
   "source": [
    "python --version"
   ]
  },
  {
   "cell_type": "markdown",
   "metadata": {},
   "source": [
    "En la siguiente porción de código se escribe la herramienta `seq.py`."
   ]
  },
  {
   "cell_type": "code",
   "execution_count": 172,
   "metadata": {
    "collapsed": false,
    "scrolled": true
   },
   "outputs": [
    {
     "name": "stdout",
     "output_type": "stream",
     "text": []
    }
   ],
   "source": [
    "cat > seq.py >>EOF\n",
    "import sys\n",
    "x = int(sys.argv[1])\n",
    "for i in range(x):\n",
    "    print i+1,\n",
    "EOF"
   ]
  },
  {
   "cell_type": "markdown",
   "metadata": {},
   "source": [
    "La sentencia `import sys` indica que se debe cargar la librería con las funciones del sistema. La variable `sys.argv`  es una lista que contiene los argumentos de la llamada; `sys.argv[0]` es el nombre del programa (`seq.py`) y `sys.argv[1]` es el entero `n`."
   ]
  },
  {
   "cell_type": "markdown",
   "metadata": {},
   "source": [
    "Para ejecutarla es invoca el interprete de Python ubicado en el directorio `/usr/bin/python`."
   ]
  },
  {
   "cell_type": "code",
   "execution_count": 173,
   "metadata": {
    "collapsed": false,
    "scrolled": true
   },
   "outputs": [
    {
     "name": "stdout",
     "output_type": "stream",
     "text": [
      "1 2 3 4 5\r\n"
     ]
    }
   ],
   "source": [
    "/usr/bin/python seq.py 5"
   ]
  },
  {
   "cell_type": "markdown",
   "metadata": {},
   "source": [
    "Para comvertir el programa anterior en una herramienta del sistema operativo, se adiciona el shebang (`#!`) y se cambian las propiedades del archivo para hacerlo ejecutable usando `chmod`. "
   ]
  },
  {
   "cell_type": "code",
   "execution_count": null,
   "metadata": {
    "collapsed": true
   },
   "outputs": [],
   "source": [
    "echo > seq.py <<EOF\n",
    "#! /usr/bin/python\n",
    "import sys\n",
    "x = int(sys.argv[1])\n",
    "for i in range(x):\n",
    "    print i+1,\n",
    "EOF"
   ]
  },
  {
   "cell_type": "code",
   "execution_count": 174,
   "metadata": {
    "collapsed": false,
    "scrolled": true
   },
   "outputs": [
    {
     "name": "stdout",
     "output_type": "stream",
     "text": []
    }
   ],
   "source": [
    "chmod +x seq.py"
   ]
  },
  {
   "cell_type": "markdown",
   "metadata": {},
   "source": [
    "Para ejecutar el programa ya no es necesario invocar el interprete de Python."
   ]
  },
  {
   "cell_type": "code",
   "execution_count": 175,
   "metadata": {
    "collapsed": false,
    "scrolled": true
   },
   "outputs": [
    {
     "name": "stdout",
     "output_type": "stream",
     "text": [
      "1 2 3 4\r\n"
     ]
    }
   ],
   "source": [
    "./seq.py 4"
   ]
  },
  {
   "cell_type": "markdown",
   "metadata": {},
   "source": [
    "## Herramientas en R"
   ]
  },
  {
   "cell_type": "markdown",
   "metadata": {},
   "source": [
    "[Contenido](#Contenido)"
   ]
  },
  {
   "cell_type": "markdown",
   "metadata": {},
   "source": [
    "También es posible escribir herramientas en R. En este ejemplo se escribirá una herramienta que genere una secuencia de números aleatorios. En primer lugar (al igual que en el caso anterior), se obtiene la ubicación del interprete del lenguaje R para la consola de comandos."
   ]
  },
  {
   "cell_type": "code",
   "execution_count": 176,
   "metadata": {
    "collapsed": false,
    "scrolled": true
   },
   "outputs": [
    {
     "name": "stdout",
     "output_type": "stream",
     "text": [
      "/usr/local/bin/Rscript\r\n"
     ]
    }
   ],
   "source": [
    "which -a Rscript"
   ]
  },
  {
   "cell_type": "markdown",
   "metadata": {},
   "source": [
    "Seguidamente, se escribe el código en R en el archivo `unif.R` y se cambian las propiedades del archivo para hacerlo ejecutable usando `chmod`."
   ]
  },
  {
   "cell_type": "code",
   "execution_count": null,
   "metadata": {
    "collapsed": true
   },
   "outputs": [],
   "source": [
    "echo > unif.R <<EOF\n",
    "#! /usr/bin/env Rscript\n",
    "args <- commandArgs(trailingOnly=TRUE)  \n",
    "cat(runif(as.numeric(args)), sep='\\n')  \n",
    "EOF"
   ]
  },
  {
   "cell_type": "code",
   "execution_count": 177,
   "metadata": {
    "collapsed": false,
    "scrolled": true
   },
   "outputs": [
    {
     "name": "stdout",
     "output_type": "stream",
     "text": []
    }
   ],
   "source": [
    "chmod +x unif.R"
   ]
  },
  {
   "cell_type": "markdown",
   "metadata": {},
   "source": [
    "En este caso, y de forma similar al programa escrito en Python, args es una variable que almacena los argumentos con que se llama el programa `unif.R`. "
   ]
  },
  {
   "cell_type": "markdown",
   "metadata": {},
   "source": [
    "En este punto ya es posible usar la herramienta para generar secuencias de números aleatorios uniformemente distribuidos."
   ]
  },
  {
   "cell_type": "code",
   "execution_count": 178,
   "metadata": {
    "collapsed": false,
    "scrolled": true
   },
   "outputs": [
    {
     "name": "stdout",
     "output_type": "stream",
     "text": [
      "0.4161142\r\n",
      "0.8878654\r\n",
      "0.1772448\r\n",
      "0.3474352\r\n",
      "0.7245935\r\n"
     ]
    }
   ],
   "source": [
    "./unif.R 5"
   ]
  },
  {
   "cell_type": "markdown",
   "metadata": {},
   "source": [
    "La potencia de la línea de comandos radica en que el Bash actua como un pegante que permite usar las herramientas escritas en distintos lenguajes. Como siguiente ejemplo, se desea escribir una función en `bash` llamada `randunif` que genere `n` archivos llamados `out.*` los cuales contienen `m` números aleatorios uniformes. Por ejemplo, la llamada `randunif 2 4` genera 2 archivos con 4 números aletorios cada uno. La función `randunif` es codificada en `bash`:"
   ]
  },
  {
   "cell_type": "code",
   "execution_count": 179,
   "metadata": {
    "collapsed": false,
    "scrolled": true
   },
   "outputs": [
    {
     "name": "stdout",
     "output_type": "stream",
     "text": []
    }
   ],
   "source": [
    "randunif(){\n",
    "    for n in $(seq $1)\n",
    "    do\n",
    "        echo $(./unif.R $2) > aux.${n}\n",
    "        tr ' '  '\\n' < aux.${n} > out.${n}\n",
    "        rm aux.${n}  \n",
    "    done\n",
    "}"
   ]
  },
  {
   "cell_type": "markdown",
   "metadata": {},
   "source": [
    "A continuación se generan los archivos `out.1`, `out.2` y `out.3` con 5 números aleatorios cada uno:"
   ]
  },
  {
   "cell_type": "code",
   "execution_count": 180,
   "metadata": {
    "collapsed": false,
    "scrolled": true
   },
   "outputs": [
    {
     "name": "stdout",
     "output_type": "stream",
     "text": []
    }
   ],
   "source": [
    "randunif 3 5"
   ]
  },
  {
   "cell_type": "code",
   "execution_count": 181,
   "metadata": {
    "collapsed": false,
    "scrolled": true
   },
   "outputs": [
    {
     "name": "stdout",
     "output_type": "stream",
     "text": [
      "0.8578735\r\n",
      "0.557835\r\n",
      "0.121629\r\n",
      "0.2457538\r\n",
      "0.5262468\r\n"
     ]
    }
   ],
   "source": [
    "cat out.1"
   ]
  },
  {
   "cell_type": "code",
   "execution_count": 182,
   "metadata": {
    "collapsed": false,
    "scrolled": true
   },
   "outputs": [
    {
     "name": "stdout",
     "output_type": "stream",
     "text": [
      "0.1891444\r\n",
      "0.8391147\r\n",
      "0.7865605\r\n",
      "0.8844072\r\n",
      "0.684347\r\n"
     ]
    }
   ],
   "source": [
    "cat out.2"
   ]
  },
  {
   "cell_type": "code",
   "execution_count": 183,
   "metadata": {
    "collapsed": false,
    "scrolled": true
   },
   "outputs": [
    {
     "name": "stdout",
     "output_type": "stream",
     "text": [
      "0.5808694\r\n",
      "0.8274748\r\n",
      "0.8746066\r\n",
      "0.1478688\r\n",
      "0.4580991\r\n"
     ]
    }
   ],
   "source": [
    "cat out.3"
   ]
  },
  {
   "cell_type": "markdown",
   "metadata": {},
   "source": [
    "**Limpieza del directorio de trabajo.**"
   ]
  },
  {
   "cell_type": "code",
   "execution_count": 184,
   "metadata": {
    "collapsed": false,
    "scrolled": true
   },
   "outputs": [
    {
     "name": "stdout",
     "output_type": "stream",
     "text": [
      "rm: old*: No such file or directory\r\n",
      "rm: data*: No such file or directory\r\n"
     ]
    }
   ],
   "source": [
    "rm *.sh\n",
    "rm out*\n",
    "rm *.py\n",
    "rm *.R"
   ]
  },
  {
   "cell_type": "markdown",
   "metadata": {},
   "source": [
    "[Contenido](#Contenido)"
   ]
  },
  {
   "cell_type": "markdown",
   "metadata": {},
   "source": [
    "---"
   ]
  },
  {
   "cell_type": "markdown",
   "metadata": {},
   "source": [
    "**Recursos adicionales de aprendizaje**"
   ]
  },
  {
   "cell_type": "markdown",
   "metadata": {},
   "source": [
    "> [The Command Line Crash Course](http://cli.learncodethehardway.org/book/) \n",
    "\n",
    "> [The Linux Command Line](http://linuxcommand.org/tlcl.php) By William Shotts\n",
    "\n",
    "> [Learn Enough Command Line to Be Dangerous](https://www.learnenough.com/command-line-tutorial#sec-grepping) by Michael Hart\n",
    "\n",
    "> [Data Science at the Command Line](http://datascienceatthecommandline.com) by Jeroen Janssens\n",
    "\n",
    "> [The Mac OS X Command Line: Unix Under the Hood](http://www.wiley.com/WileyCDA/WileyTitle/productCd-0782143547.html) by Kirk McElhearn"
   ]
  },
  {
   "cell_type": "markdown",
   "metadata": {},
   "source": [
    "**Bibliografía**.\n",
    "\n",
    "[1] D. Cross. Data Munging with Perl. Maning Publications Co. 2001\n",
    "\n",
    "[2] S. Redmond. Mastering QlikView. Packs Publishing, 2014.\n",
    "\n",
    "[3] T. Meyr. Apple® Automator with AppleScript® Bible. Wiley Publishing, Inc., Indianapolis, Indiana, 2010.\n",
    "\n",
    "[4] C. Albing, JP Vossen and C. Newham. Bash cookbook. O'Reilly, Media Inc. 2007. \n",
    "\n",
    "[5] E. S. Raymond, The Art of Unix Programming. Addison-Wesley, 2004.\n",
    "\n",
    "[6] K. McElhearn. The Mac OS X Command Line: Unix under the hood. Ibex, 2005.\n",
    "\n",
    "[7] R. K. Michael. Mastering Unix Shell Scripting. Wiley, 2003."
   ]
  }
 ],
 "metadata": {
  "kernelspec": {
   "display_name": "Bash",
   "language": "bash",
   "name": "bash"
  },
  "language_info": {
   "codemirror_mode": "shell",
   "file_extension": ".sh",
   "mimetype": "text/x-sh",
   "name": "bash"
  },
  "nbpresent": {
   "slides": {
    "940b5fc9-9cdd-41d7-8372-719403fc2bd2": {
     "id": "940b5fc9-9cdd-41d7-8372-719403fc2bd2",
     "prev": null,
     "regions": {
      "395f31a1-eb6e-4371-acb3-490ee879b8b8": {
       "attrs": {
        "height": 0.2,
        "width": 0.4,
        "x": 0.5,
        "y": 0.7
       },
       "id": "395f31a1-eb6e-4371-acb3-490ee879b8b8"
      },
      "92e1a1f9-4ebc-41a2-bfe8-899c8e794d14": {
       "attrs": {
        "height": 0.8,
        "width": 0.8,
        "x": 0.1,
        "y": 0.1
       },
       "id": "92e1a1f9-4ebc-41a2-bfe8-899c8e794d14"
      },
      "ad53a586-a210-4ed7-adb4-961b08e598b8": {
       "attrs": {
        "height": 0.2,
        "width": 0.4,
        "x": 0.1,
        "y": 0.7
       },
       "id": "ad53a586-a210-4ed7-adb4-961b08e598b8"
      },
      "bd4aba0d-fa0b-42e7-81a3-0beac29f2241": {
       "attrs": {
        "height": 0.8,
        "width": 0.8,
        "x": 0.1,
        "y": 0.1
       },
       "id": "bd4aba0d-fa0b-42e7-81a3-0beac29f2241"
      },
      "cefb04b2-32f0-4965-923e-1a6b36c37fd8": {
       "attrs": {
        "height": 0.6,
        "width": 0.8,
        "x": 0.1,
        "y": 0.1
       },
       "content": {
        "cell": "a4b09f9a-453a-4787-83c4-61a43f75d860",
        "part": "source"
       },
       "id": "cefb04b2-32f0-4965-923e-1a6b36c37fd8"
      }
     }
    }
   }
  }
 },
 "nbformat": 4,
 "nbformat_minor": 0
}
